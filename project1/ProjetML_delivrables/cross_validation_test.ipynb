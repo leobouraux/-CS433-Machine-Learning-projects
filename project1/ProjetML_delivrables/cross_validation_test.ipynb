{
 "cells": [
  {
   "cell_type": "code",
   "execution_count": 1,
   "metadata": {},
   "outputs": [],
   "source": [
    "# Useful starting lines\n",
    "%matplotlib inline\n",
    "import numpy as np\n",
    "import matplotlib.pyplot as plt\n",
    "%load_ext autoreload\n",
    "%autoreload 2"
   ]
  },
  {
   "cell_type": "code",
   "execution_count": 2,
   "metadata": {},
   "outputs": [],
   "source": [
    "from proj1_helpers import *\n",
    "from implementations import *\n",
    "from preprocess import *\n",
    "from cross_validation import *"
   ]
  },
  {
   "cell_type": "markdown",
   "metadata": {},
   "source": [
    "***Load the training data into feature matrix, class labels, and event ids***"
   ]
  },
  {
   "cell_type": "code",
   "execution_count": 3,
   "metadata": {
    "collapsed": false,
    "jupyter": {
     "outputs_hidden": false
    }
   },
   "outputs": [],
   "source": [
    "DATA_TRAIN_PATH = './data/train.csv' \n",
    "y, tX, ids = load_csv_data(DATA_TRAIN_PATH)"
   ]
  },
  {
   "cell_type": "markdown",
   "metadata": {},
   "source": [
    "***Preprocessing the data***"
   ]
  },
  {
   "cell_type": "code",
   "execution_count": 8,
   "metadata": {},
   "outputs": [],
   "source": [
    "y_train, tx_train = preprocess_data(y, tX)"
   ]
  },
  {
   "cell_type": "markdown",
   "metadata": {},
   "source": [
    "***Code***"
   ]
  },
  {
   "cell_type": "code",
   "execution_count": 9,
   "metadata": {},
   "outputs": [],
   "source": [
    "##### Least squares test sans build-poly\n",
    "\n",
    "# Ajout d'offset\n",
    "tx_train1 = np.c_[np.ones((y_train.shape[0], 1)), tx_train]\n",
    "\n",
    "x_tr, x_te, y_tr, y_te = split_data(tx_train1, y_train, 0.5)\n",
    "loss_LS, w_LS = least_squares(y_tr, x_tr)"
   ]
  },
  {
   "cell_type": "code",
   "execution_count": 7,
   "metadata": {},
   "outputs": [
    {
     "name": "stdout",
     "output_type": "stream",
     "text": [
      "Accuracy for LS (S train): 0.745352\n",
      "Accuracy for LS (S test): 0.742904\n"
     ]
    }
   ],
   "source": [
    "y_validation_tr = predict_labels(w_LS, x_tr)\n",
    "accuracy_tr = sum(y_validation_tr == y_tr)/len(y_tr)\n",
    "print('Accuracy for LS (S train):', accuracy_tr)\n",
    "\n",
    "y_validation_te = predict_labels(w_LS, x_te)\n",
    "accuracy_te = sum(y_validation_te == y_te)/len(y_te)\n",
    "print('Accuracy for LS (S test):', accuracy_te)"
   ]
  },
  {
   "cell_type": "markdown",
   "metadata": {},
   "source": [
    "***Choix du meilleur degré pour least sqaures avec build poly***"
   ]
  },
  {
   "cell_type": "code",
   "execution_count": 8,
   "metadata": {},
   "outputs": [],
   "source": [
    "def cross_validation_LS(y, x, k_indices, k, degree):\n",
    "    \"\"\"return the loss of ridge regression.\"\"\"\n",
    "    # get k'th subgroup in test, others in train:\n",
    "    xTest= x[k_indices[k]]\n",
    "    yTest = y[k_indices[k]]\n",
    "    \n",
    "    A = np.ones(y.shape, dtype = bool)\n",
    "    A[:]=True\n",
    "    A[k_indices[k]] = False\n",
    "    \n",
    "    xTrain=x[A]\n",
    "    yTrain = y[A]\n",
    "    \n",
    "    # form data with polynomial degree:\n",
    "    polyTrain = build_poly(xTrain, degree)\n",
    "    polyTest = build_poly(xTest, degree)\n",
    "    \n",
    "    # ridge regression:\n",
    "    _, w = least_squares(yTrain, polyTrain)\n",
    "    \n",
    "    # calculate the accuracy for train and test data:\n",
    "    y_validation_tr = predict_labels(w, polyTrain)\n",
    "    accuracy_tr = sum(y_validation_tr == yTrain)/len(yTrain)\n",
    "    y_validation_te = predict_labels(w, polyTest)\n",
    "    accuracy_te = sum(y_validation_te == yTest)/len(yTest)\n",
    "    return accuracy_tr, accuracy_te\n"
   ]
  },
  {
   "cell_type": "code",
   "execution_count": 32,
   "metadata": {},
   "outputs": [
    {
     "name": "stdout",
     "output_type": "stream",
     "text": [
      "Degre =  7\n",
      "Train accuracy = 0.80414 +- 0.00105\n",
      "Test accuracy  = 0.80380 +- 0.00366\n",
      "Degre =  8\n",
      "Train accuracy = 0.81137 +- 0.00126\n",
      "Test accuracy  = 0.81073 +- 0.00332\n",
      "Degre =  9\n",
      "Train accuracy = 0.81499 +- 0.00093\n",
      "Test accuracy  = 0.81399 +- 0.00360\n",
      "Degre =  10\n",
      "Train accuracy = 0.81670 +- 0.00083\n",
      "Test accuracy  = 0.81568 +- 0.00294\n",
      "Degre =  11\n",
      "Train accuracy = 0.81518 +- 0.00501\n",
      "Test accuracy  = 0.81501 +- 0.00636\n",
      "Degre =  12\n",
      "Train accuracy = 0.81936 +- 0.00077\n",
      "Test accuracy  = 0.81806 +- 0.00332\n",
      "Degre =  13\n",
      "Train accuracy = 0.75452 +- 0.09990\n",
      "Test accuracy  = 0.75431 +- 0.09992\n",
      "Degre =  14\n",
      "Train accuracy = 0.80372 +- 0.01581\n",
      "Test accuracy  = 0.80332 +- 0.01706\n",
      "Degre =  15\n",
      "Train accuracy = 0.77153 +- 0.05245\n",
      "Test accuracy  = 0.77093 +- 0.05244\n",
      "Best degree for Least Squares: 12\n"
     ]
    },
    {
     "data": {
      "image/png": "[encoded data removed]",
      "text/plain": [
       "<Figure size 432x288 with 1 Axes>"
      ]
     },
     "metadata": {
      "needs_background": "light"
     },
     "output_type": "display_data"
    }
   ],
   "source": [
    "def cross_validation_demo_LS(x, y):\n",
    "    seed = 1\n",
    "    degrees = range(7,16)\n",
    "    k_fold = 5\n",
    "    \n",
    "    # split data into traing set and testing set\n",
    "    x_tr, x_te, y_tr, y_te = split_data(x, y, 0.72)\n",
    "    \n",
    "    # split data in k fold\n",
    "    k_indices = build_k_indices(y_tr, k_fold, seed)\n",
    "    \n",
    "    # define lists to store the accuracy of training data and test data\n",
    "    accuracy_te_mean = []\n",
    "    accuracy_tr_mean = []\n",
    "    accuracy_tr_std = []\n",
    "    accuracy_te_std = []\n",
    "    \n",
    "    # cross validation:\n",
    "    for deg in degrees:\n",
    "        accuracy_tr = []\n",
    "        accuracy_te = []\n",
    "        print(\"Degre = \", deg)\n",
    "        \n",
    "        for k in range (k_fold):\n",
    "            accuracy_tr_tmp, accuracy_te_tmp = cross_validation_LS(y_tr, x_tr, k_indices, k, deg)\n",
    "            accuracy_tr.append(accuracy_tr_tmp)\n",
    "            accuracy_te.append(accuracy_te_tmp)\n",
    "        \n",
    "        accuracy_tr_mean.append(np.mean(accuracy_tr))\n",
    "        accuracy_te_mean.append(np.mean(accuracy_te))\n",
    "        accuracy_tr_std.append(np.std(accuracy_tr))\n",
    "        accuracy_te_std.append(np.std(accuracy_te))\n",
    "        print(\"Train accuracy = {:.5f} +- {:.5f}\".format(accuracy_tr_mean[-1], accuracy_tr_std[-1]))\n",
    "        print(\"Test accuracy  = {:.5f} +- {:.5f}\".format(accuracy_te_mean[-1], accuracy_te_std[-1]))\n",
    "    \n",
    "    cross_validation_visualization(degrees, accuracy_tr_mean, accuracy_te_mean)\n",
    "    best_degree = degrees[np.nanargmax(accuracy_te_mean)]\n",
    "    print(\"Best degree for Least Squares:\", best_degree)\n",
    "    \n",
    "cross_validation_demo_LS(tx_train, y_train)"
   ]
  },
  {
   "cell_type": "code",
   "execution_count": null,
   "metadata": {},
   "outputs": [],
   "source": [
    "##### Least squares\n",
    "x_tr, x_te, y_tr, y_te = split_data(tx_train, y_train, 0.4)\n",
    "px_tr = build_poly(x_tr, 12)\n",
    "px_te = build_poly(x_te, 12)\n",
    "loss, w_LS = least_squares(y_tr, px_tr)"
   ]
  },
  {
   "cell_type": "code",
   "execution_count": 30,
   "metadata": {},
   "outputs": [
    {
     "name": "stdout",
     "output_type": "stream",
     "text": [
      "Accuracy for LS (S train): 0.81957\n",
      "Accuracy for LS (S test): 0.81866\n"
     ]
    }
   ],
   "source": [
    "y_validation_tr = predict_labels(w_LS, px_tr)\n",
    "accuracy_tr = sum(y_validation_tr == y_tr)/len(y_tr)\n",
    "print('Accuracy for LS (S train):', accuracy_tr)\n",
    "\n",
    "y_validation_te = predict_labels(w_LS, px_te)\n",
    "accuracy_te = sum(y_validation_te == y_te)/len(y_te)\n",
    "print('Accuracy for LS (S test):', accuracy_te)"
   ]
  },
  {
   "cell_type": "markdown",
   "metadata": {},
   "source": [
    "***GD/SGD***"
   ]
  },
  {
   "cell_type": "code",
   "execution_count": 33,
   "metadata": {},
   "outputs": [],
   "source": [
    "def cross_validation_GD(y, x, k_indices, k, degree, gamma, max_iters):\n",
    "    # get k'th subgroup in test, others in train:\n",
    "    xTest= x[k_indices[k]]\n",
    "    yTest = y[k_indices[k]]\n",
    "    \n",
    "    A = np.ones(y.shape, dtype = bool)\n",
    "    A[:]=True\n",
    "    A[k_indices[k]] = False\n",
    "    \n",
    "    xTrain=x[A]\n",
    "    yTrain = y[A]\n",
    "    \n",
    "    # form data with polynomial degree:\n",
    "    polyTrain = build_poly(xTrain, degree)\n",
    "    polyTest = build_poly(xTest, degree)\n",
    "    \n",
    "    # initialize the weight\n",
    "    initial_w = np.zeros(polyTrain.shape[1], dtype=np.float64)\n",
    "    \n",
    "    # Gradient descent:\n",
    "    _, w = least_squares_GD(yTrain, polyTrain, initial_w, max_iters, gamma)\n",
    "    \n",
    "    # calculate the accuracy for train and test data:\n",
    "    y_validation_tr = predict_labels(w, polyTrain)\n",
    "    accuracy_tr = sum(y_validation_tr == yTrain)/len(yTrain)\n",
    "    y_validation_te = predict_labels(w, polyTest)\n",
    "    accuracy_te = sum(y_validation_te == yTest)/len(yTest)\n",
    "    return accuracy_tr, accuracy_te\n",
    "    \n"
   ]
  },
  {
   "cell_type": "code",
   "execution_count": 42,
   "metadata": {},
   "outputs": [
    {
     "name": "stdout",
     "output_type": "stream",
     "text": [
      "Gamma =  0.1\n",
      "Train accuracy = 0.74183 +- 0.00070\n",
      "Test accuracy  = 0.74193 +- 0.00187\n",
      "Gamma =  0.2\n",
      "Train accuracy = 0.74370 +- 0.00085\n",
      "Test accuracy  = 0.74356 +- 0.00222\n",
      "Gamma =  0.3\n",
      "Train accuracy = 0.74425 +- 0.00079\n",
      "Test accuracy  = 0.74391 +- 0.00248\n"
     ]
    },
    {
     "data": {
      "image/png": "[encoded data removed]",
      "text/plain": [
       "<Figure size 432x288 with 1 Axes>"
      ]
     },
     "metadata": {
      "needs_background": "light"
     },
     "output_type": "display_data"
    }
   ],
   "source": [
    "def cross_validation_demo_GD(x, y):\n",
    "    seed = 1\n",
    "    degree = 1\n",
    "    gammas = [0.1, 0.2, 0.3]\n",
    "    k_fold = 5\n",
    "    max_iters = 100\n",
    "    \n",
    "    # split data into traing set and testing set\n",
    "    x_tr, x_te, y_tr, y_te = split_data(x, y, 0.72)\n",
    "    # split data in k fold\n",
    "    k_indices = build_k_indices(y_tr, k_fold, seed)\n",
    "    \n",
    "    # define lists to store the accuracy of training data and test data\n",
    "    accuracy_te_mean = []\n",
    "    accuracy_tr_mean = []\n",
    "    accuracy_tr_std = []\n",
    "    accuracy_te_std = []\n",
    "    \n",
    "    # cross validation:\n",
    "        \n",
    "    for gam in gammas:\n",
    "        accuracy_tr = []\n",
    "        accuracy_te = []\n",
    "        print(\"Gamma = \", gam)\n",
    "            \n",
    "        for k in range (k_fold):\n",
    "            accuracy_tr_tmp, accuracy_te_tmp = cross_validation_GD(y_tr, x_tr, k_indices, k, degree, gam, max_iters)\n",
    "            accuracy_tr.append(accuracy_tr_tmp)\n",
    "            accuracy_te.append(accuracy_te_tmp)\n",
    "\n",
    "        accuracy_tr_mean.append(np.mean(accuracy_tr))\n",
    "        accuracy_te_mean.append(np.mean(accuracy_te))\n",
    "        accuracy_tr_std.append(np.std(accuracy_tr))\n",
    "        accuracy_te_std.append(np.std(accuracy_te))\n",
    "        print(\"Train accuracy = {:.5f} +- {:.5f}\".format(accuracy_tr_mean[-1], accuracy_tr_std[-1]))\n",
    "        print(\"Test accuracy  = {:.5f} +- {:.5f}\".format(accuracy_te_mean[-1], accuracy_te_std[-1]))\n",
    "    \n",
    "    cross_validation_visualization(gammas, accuracy_tr_mean, accuracy_te_mean)\n",
    "    \n",
    "cross_validation_demo_GD(tx_train, y_train)"
   ]
  },
  {
   "cell_type": "code",
   "execution_count": 17,
   "metadata": {},
   "outputs": [
    {
     "name": "stdout",
     "output_type": "stream",
     "text": [
      "Loss SG : \n",
      " 0.8287917535395751\n",
      "Weight SG: \n",
      " [-0.30222245 -0.02575243 -0.24092253 -0.1524161   0.0231199   0.03154093\n",
      "  0.06396121  0.0039019   0.22162158 -0.0427225   0.04808127 -0.12896634\n",
      "  0.12704938  0.06923638  0.18027872 -0.00685299 -0.00926354  0.18118864\n",
      " -0.00358819  0.00669544  0.07110459  0.00469846 -0.04281691 -0.05563729\n",
      "  0.01142301  0.01239324 -0.04271429 -0.00561273 -0.00231332]\n"
     ]
    }
   ],
   "source": [
    "##### GD/SGD test\n",
    "max_iters = 100\n",
    "\n",
    "#y_tr = np.expand_dims(y_tr, axis=1)\n",
    "#y_te = np.expand_dims(y_te, axis=1)\n",
    "\n",
    "px_tr = build_poly(x_tr, best_deg)\n",
    "px_te = build_poly(x_te, best_deg)\n",
    "\n",
    "w_i = np.zeros(px_tr.shape[1], dtype=np.float64)\n",
    "#loss_i, w_i = least_squares(y_tr, x_tr)\n",
    "#print(y_tr.shape, px_tr.shape, w.shape)\n",
    "loss_SG, w_SG = least_squares_SGD(y_tr, px_tr, w_i, 1000, max_iters, best_gamma)\n",
    "print(\"Loss SG : \\n\", loss_SG)\n",
    "print(\"Weight SG: \\n\", w_SG)"
   ]
  },
  {
   "cell_type": "code",
   "execution_count": 18,
   "metadata": {},
   "outputs": [
    {
     "name": "stdout",
     "output_type": "stream",
     "text": [
      "Accuracy for GD (S train): 0.7434111111111111\n",
      "Accuracy for GD (S test): 0.7426\n"
     ]
    }
   ],
   "source": [
    "y_validation_tr = predict_labels(w_SG, px_tr)\n",
    "accuracy_tr = sum(y_validation_tr == y_tr)/len(y_tr)\n",
    "print('Accuracy for GD (S train):', accuracy_tr)\n",
    "\n",
    "y_validation_te = predict_labels(w_SG, px_te)\n",
    "accuracy_te = sum(y_validation_te == y_te)/len(y_te)\n",
    "print('Accuracy for GD (S test):', accuracy_te)"
   ]
  },
  {
   "cell_type": "markdown",
   "metadata": {},
   "source": [
    "***Ridge***"
   ]
  },
  {
   "cell_type": "code",
   "execution_count": 7,
   "metadata": {},
   "outputs": [],
   "source": [
    "def cross_validation_ridge(y, x, k_indices, k, lambda_, degree):\n",
    "    \"\"\"return the loss of ridge regression.\"\"\"\n",
    "    # get k'th subgroup in test, others in train:\n",
    "    xTest= x[k_indices[k]]\n",
    "    yTest = y[k_indices[k]]\n",
    "    \n",
    "    A = np.ones(y.shape, dtype = bool)\n",
    "    A[:]=True\n",
    "    A[k_indices[k]] = False\n",
    "    \n",
    "    xTrain=x[A]\n",
    "    yTrain = y[A]\n",
    "    \n",
    "    # form data with polynomial degree:\n",
    "    polyTrain = build_poly(xTrain, degree)\n",
    "    polyTest = build_poly(xTest, degree)\n",
    "    \n",
    "    # ridge regression:\n",
    "    _, w = ridge_regression(yTrain, polyTrain, lambda_)\n",
    "    \n",
    "    # calculate the accuracy for train and test data:\n",
    "    y_validation_tr = predict_labels(w, polyTrain)\n",
    "    accuracy_tr = sum(y_validation_tr == yTrain)/len(yTrain)\n",
    "    y_validation_te = predict_labels(w, polyTest)\n",
    "    accuracy_te = sum(y_validation_te == yTest)/len(yTest)\n",
    "    return accuracy_tr, accuracy_te\n",
    "    \n"
   ]
  },
  {
   "cell_type": "code",
   "execution_count": 25,
   "metadata": {},
   "outputs": [
    {
     "name": "stdout",
     "output_type": "stream",
     "text": [
      "lambda =  2e-06\n",
      "[0.7653714285714286, 0.80385, 0.8021714285714285, 0.7863071428571429, 0.79265]\n",
      "[0.7632857142857142, 0.8016857142857143, 0.8007428571428571, 0.7899142857142857, 0.7895142857142857]\n",
      "Train accuracy = 0.79007 +- 0.01391\n",
      "Test accuracy  = 0.78903 +- 0.01386\n",
      "lambda =  6.324555320336758e-06\n",
      "[0.794, 0.8038571428571428, 0.7744642857142857, 0.8012357142857143, 0.7932071428571429]\n",
      "[0.7910571428571429, 0.8016857142857143, 0.7686, 0.8035428571428571, 0.7914571428571429]\n",
      "Train accuracy = 0.79335 +- 0.01029\n",
      "Test accuracy  = 0.79127 +- 0.01243\n",
      "lambda =  2e-05\n",
      "[0.80205, 0.8038285714285714, 0.7973214285714286, 0.7988571428571428, 0.7803642857142857]\n",
      "[0.7988, 0.8014857142857142, 0.7961714285714285, 0.8001714285714285, 0.7768285714285714]\n",
      "Train accuracy = 0.79648 +- 0.00838\n",
      "Test accuracy  = 0.79469 +- 0.00910\n",
      "lambda =  6.324555320336759e-05\n",
      "[0.8009714285714286, 0.8038071428571428, 0.7669, 0.8016357142857143, 0.75105]\n",
      "[0.7973428571428571, 0.8016, 0.7673142857142857, 0.8054, 0.7519714285714286]\n",
      "Train accuracy = 0.78487 +- 0.02175\n",
      "Test accuracy  = 0.78473 +- 0.02120\n",
      "lambda =  0.0002\n",
      "[0.8012357142857143, 0.8037857142857143, 0.8030571428571428, 0.8037428571428571, 0.8016928571428571]\n",
      "[0.8005142857142857, 0.8015428571428571, 0.8011714285714285, 0.8086857142857143, 0.8008]\n",
      "Train accuracy = 0.80270 +- 0.00105\n",
      "Test accuracy  = 0.80254 +- 0.00309\n",
      "lambda =  0.0006324555320336759\n",
      "[0.7947857142857143, 0.8037857142857143, 0.7980285714285714, 0.7986142857142857, 0.776]\n",
      "[0.7925714285714286, 0.8018857142857143, 0.7964571428571429, 0.8014, 0.7747714285714286]\n",
      "Train accuracy = 0.79424 +- 0.00957\n",
      "Test accuracy  = 0.79342 +- 0.00993\n",
      "lambda =  0.002\n",
      "[0.7988285714285714, 0.8037071428571428, 0.7894571428571429, 0.8027, 0.7932857142857143]\n",
      "[0.7951428571428572, 0.8012285714285714, 0.7852571428571429, 0.8044857142857142, 0.7905428571428571]\n",
      "Train accuracy = 0.79760 +- 0.00547\n",
      "Test accuracy  = 0.79533 +- 0.00697\n",
      "lambda =  0.006324555320336759\n",
      "[0.8028214285714286, 0.80255, 0.7877, 0.8039142857142857, 0.7584357142857143]\n",
      "[0.8008, 0.8001428571428572, 0.7839142857142857, 0.8085714285714286, 0.7584571428571428]\n",
      "Train accuracy = 0.79108 +- 0.01739\n",
      "Test accuracy  = 0.79038 +- 0.01786\n",
      "lambda =  0.02\n",
      "[0.7890071428571429, 0.8005357142857142, 0.7925142857142857, 0.7991071428571429, 0.7502857142857143]\n",
      "[0.7863428571428571, 0.7982571428571429, 0.7917428571428572, 0.8025714285714286, 0.7509142857142858]\n",
      "Train accuracy = 0.78629 +- 0.01849\n",
      "Test accuracy  = 0.78597 +- 0.01838\n",
      "lambda =  0.06324555320336758\n",
      "[0.7925642857142857, 0.7950357142857143, 0.7946142857142857, 0.7733071428571429, 0.7882214285714285]\n",
      "[0.7904857142857142, 0.7931428571428571, 0.7924857142857142, 0.7748285714285714, 0.7869428571428572]\n",
      "Train accuracy = 0.78875 +- 0.00809\n",
      "Test accuracy  = 0.78758 +- 0.00673\n",
      "lambda =  0.2\n",
      "[0.7837071428571428, 0.7849214285714285, 0.7854714285714286, 0.7869071428571428, 0.7753142857142857]\n",
      "[0.7818, 0.7836, 0.7825714285714286, 0.7913142857142857, 0.7753142857142857]\n",
      "Train accuracy = 0.78326 +- 0.00411\n",
      "Test accuracy  = 0.78292 +- 0.00510\n"
     ]
    },
    {
     "data": {
      "image/png": "[encoded data removed]",
      "text/plain": [
       "<Figure size 432x288 with 1 Axes>"
      ]
     },
     "metadata": {
      "needs_background": "light"
     },
     "output_type": "display_data"
    }
   ],
   "source": [
    "def cross_validation_demo_ridge(x, y):\n",
    "    seed = 1\n",
    "    degree = 7\n",
    "    k_fold = 5\n",
    "    lambdas = 2*np.logspace(-6, -1, 11)\n",
    "    \n",
    "    # split data into traing set and testing set\n",
    "    x_tr, x_te, y_tr, y_te = split_data(x, y, 0.7)\n",
    "    \n",
    "    # split data in k fold\n",
    "    k_indices = build_k_indices(y_tr, k_fold, seed)\n",
    "    \n",
    "    # define lists to store the accuracy of training data and test data\n",
    "    accuracy_te_mean = []\n",
    "    accuracy_tr_mean = []\n",
    "    accuracy_tr_std = []\n",
    "    accuracy_te_std = []\n",
    "    \n",
    "    # cross validation:\n",
    "    for lambda_ in lambdas:\n",
    "        accuracy_tr = []\n",
    "        accuracy_te = []\n",
    "        print(\"lambda = \", lambda_)\n",
    "        \n",
    "        for k in range (k_fold):\n",
    "            accuracy_tr_tmp, accuracy_te_tmp = cross_validation_ridge(y_tr, x_tr, k_indices, k, lambda_, degree)\n",
    "            accuracy_tr.append(accuracy_tr_tmp)\n",
    "            accuracy_te.append(accuracy_te_tmp)\n",
    "        \n",
    "        print(accuracy_tr)\n",
    "        print(accuracy_te)\n",
    "        accuracy_tr_mean.append(np.mean(accuracy_tr))\n",
    "        accuracy_te_mean.append(np.mean(accuracy_te))\n",
    "        accuracy_tr_std.append(np.std(accuracy_tr))\n",
    "        accuracy_te_std.append(np.std(accuracy_te))\n",
    "        print(\"Train accuracy = {:.5f} +- {:.5f}\".format(accuracy_tr_mean[-1], accuracy_tr_std[-1]))\n",
    "        print(\"Test accuracy  = {:.5f} +- {:.5f}\".format(accuracy_te_mean[-1], accuracy_te_std[-1]))\n",
    "    \n",
    "    cross_validation_visualization(lambdas, accuracy_tr_mean, accuracy_te_mean)\n",
    "    \n",
    "cross_validation_demo_ridge(tx_train, y_train)"
   ]
  },
  {
   "cell_type": "code",
   "execution_count": 24,
   "metadata": {},
   "outputs": [
    {
     "name": "stdout",
     "output_type": "stream",
     "text": [
      "Loss ridge : \n",
      " 0.7600962235201505\n"
     ]
    }
   ],
   "source": [
    "##### Ridge test\n",
    "x_tr, x_te, y_tr, y_te = split_data(tx_train, y_train, 0.72)\n",
    "px_tr = build_poly(x_tr, 7)\n",
    "px_te = build_poly(x_te, 7)\n",
    "loss, w_ridge= ridge_regression(y_tr, px_tr, 2e-4)\n",
    "\n",
    "print(\"Loss ridge : \\n\", loss)\n",
    "# print(\"Weight ridge : \\n\", w)"
   ]
  },
  {
   "cell_type": "code",
   "execution_count": 25,
   "metadata": {},
   "outputs": [
    {
     "name": "stdout",
     "output_type": "stream",
     "text": [
      "Accuracy for Ridge (S train): 0.8034777777777777\n",
      "Accuracy for Ridge (S test): 0.8045428571428571\n"
     ]
    }
   ],
   "source": [
    "y_validation_tr = predict_labels(w_ridge, px_tr)\n",
    "accuracy_tr = sum(y_validation_tr == y_tr)/len(y_tr)\n",
    "print('Accuracy for Ridge (S train):', accuracy_tr)\n",
    "\n",
    "y_validation_te = predict_labels(w_ridge, px_te)\n",
    "accuracy_te = sum(y_validation_te == y_te)/len(y_te)\n",
    "print('Accuracy for Ridge (S test):', accuracy_te)"
   ]
  },
  {
   "cell_type": "markdown",
   "metadata": {},
   "source": [
    "***Logistic regression***"
   ]
  },
  {
   "cell_type": "code",
   "execution_count": 51,
   "metadata": {},
   "outputs": [],
   "source": [
    "def cross_validation_log(y, x, k_indices, k, lambda_, gamma, degree, max_iters):\n",
    "    # get k'th subgroup in test, others in train:\n",
    "    xTest= x[k_indices[k]]\n",
    "    yTest = y[k_indices[k]]\n",
    "    \n",
    "    A = np.ones(y.shape, dtype = bool)\n",
    "    A[:]=True\n",
    "    A[k_indices[k]] = False\n",
    "    \n",
    "    xTrain=x[A]\n",
    "    yTrain = y[A]\n",
    "    \n",
    "    # form data with polynomial degree:\n",
    "    polyTrain = build_poly(xTrain, degree)\n",
    "    polyTest = build_poly(xTest, degree)\n",
    "    \n",
    "    # initialize weights\n",
    "    initial_w = np.zeros(polyTrain.shape[1], dtype=np.float64)\n",
    "    \n",
    "    # logistic regression:\n",
    "    _, w = logistic_regression(yTrain, polyTrain, initial_w, max_iters, gamma, lambda_)\n",
    "    \n",
    "    # calculate the accuracy for train and test data:\n",
    "    y_validation_tr = predict_labels(w, polyTrain)\n",
    "    accuracy_tr = sum(y_validation_tr == yTrain)/len(yTrain)\n",
    "    y_validation_te = predict_labels(w, polyTest)\n",
    "    accuracy_te = sum(y_validation_te == yTest)/len(yTest)\n",
    "    return accuracy_tr, accuracy_te"
   ]
  },
  {
   "cell_type": "code",
   "execution_count": 61,
   "metadata": {},
   "outputs": [
    {
     "name": "stdout",
     "output_type": "stream",
     "text": [
      "gamma =  5e-10\n",
      "Train accuracy = 0.70665 +- 0.00047\n",
      "Test accuracy  = 0.70664 +- 0.00241\n",
      "gamma =  5e-09\n",
      "Train accuracy = 0.70679 +- 0.00054\n",
      "Test accuracy  = 0.70691 +- 0.00234\n",
      "gamma =  5e-08\n",
      "Train accuracy = 0.70757 +- 0.00055\n",
      "Test accuracy  = 0.70754 +- 0.00206\n",
      "gamma =  5e-07\n",
      "Train accuracy = 0.71039 +- 0.00068\n",
      "Test accuracy  = 0.71038 +- 0.00300\n",
      "gamma =  5e-06\n",
      "Train accuracy = 0.71458 +- 0.00073\n",
      "Test accuracy  = 0.71469 +- 0.00244\n",
      "gamma =  5e-05\n",
      "Train accuracy = 0.71454 +- 0.00068\n",
      "Test accuracy  = 0.71466 +- 0.00256\n",
      "gamma =  0.0005\n",
      "Train accuracy = 0.71455 +- 0.00068\n",
      "Test accuracy  = 0.71467 +- 0.00256\n",
      "gamma =  0.005\n",
      "Train accuracy = 0.71455 +- 0.00069\n",
      "Test accuracy  = 0.71467 +- 0.00256\n",
      "gamma =  0.05\n",
      "Train accuracy = 0.71455 +- 0.00069\n",
      "Test accuracy  = 0.71467 +- 0.00256\n",
      "gamma =  0.5\n",
      "Train accuracy = 0.71455 +- 0.00069\n",
      "Test accuracy  = 0.71467 +- 0.00256\n",
      "gamma =  1\n",
      "Train accuracy = 0.71455 +- 0.00069\n",
      "Test accuracy  = 0.71467 +- 0.00256\n"
     ]
    },
    {
     "data": {
      "image/png": "[encoded data removed]",
      "text/plain": [
       "<Figure size 432x288 with 1 Axes>"
      ]
     },
     "metadata": {
      "needs_background": "light"
     },
     "output_type": "display_data"
    }
   ],
   "source": [
    "def cross_validation_demo_log(x, y):\n",
    "    seed = 1\n",
    "    degree = 1\n",
    "    gammas = [5e-10, 5e-9, 5e-8, 5e-7, 5e-6, 5e-5, 5e-4, 5e-3, 5e-2, 5e-1, 1]\n",
    "    k_fold = 5\n",
    "    lambda_ = 2\n",
    "    max_iters = 100\n",
    "    \n",
    "    # split data into traing set and testing set\n",
    "    x_tr, x_te, y_tr, y_te = split_data(x, y, 0.7)\n",
    "    # split data in k fold\n",
    "    k_indices = build_k_indices(y_tr, k_fold, seed)\n",
    "    \n",
    "    # define lists to store the accuracy of training data and test data\n",
    "    accuracy_te_mean = []\n",
    "    accuracy_tr_mean = []\n",
    "    accuracy_tr_std = []\n",
    "    accuracy_te_std = []\n",
    "    \n",
    "    # cross validation:\n",
    "    for gamma in gammas:\n",
    "        accuracy_tr = []\n",
    "        accuracy_te = []\n",
    "        print(\"gamma = \", gamma)\n",
    "\n",
    "        for k in range (k_fold):\n",
    "            accuracy_tr_tmp, accuracy_te_tmp = cross_validation_log(y_tr, x_tr, k_indices, k, lambda_, gamma, degree, max_iters)\n",
    "            accuracy_tr.append(accuracy_tr_tmp)\n",
    "            accuracy_te.append(accuracy_te_tmp)\n",
    "\n",
    "        accuracy_tr_mean.append(np.mean(accuracy_tr))\n",
    "        accuracy_te_mean.append(np.mean(accuracy_te))\n",
    "        accuracy_tr_std.append(np.std(accuracy_tr))\n",
    "        accuracy_te_std.append(np.std(accuracy_te))\n",
    "        print(\"Train accuracy = {:.5f} +- {:.5f}\".format(accuracy_tr_mean[-1], accuracy_tr_std[-1]))\n",
    "        print(\"Test accuracy  = {:.5f} +- {:.5f}\".format(accuracy_te_mean[-1], accuracy_te_std[-1]))\n",
    "\n",
    "    \n",
    "cross_validation_demo_log(tx_train, y_train)"
   ]
  },
  {
   "cell_type": "code",
   "execution_count": 14,
   "metadata": {},
   "outputs": [],
   "source": [
    "initial_w = np.zeros(x_tr.shape[1], dtype=np.float64)\n",
    "loss_log, w_log = logistic_regression(y_tr, x_tr, initial_w, 10, 5e-6)"
   ]
  },
  {
   "cell_type": "code",
   "execution_count": 15,
   "metadata": {},
   "outputs": [
    {
     "name": "stdout",
     "output_type": "stream",
     "text": [
      "Accuracy for regularized logistic regression: 0.710832\n",
      "Accuracy for regularized logistic regression: 0.710056\n"
     ]
    }
   ],
   "source": [
    "y_validation_tr = predict_labels(w_log, x_tr)\n",
    "accuracy_tr = sum(y_validation_tr == y_tr)/len(y_tr)\n",
    "print('Accuracy for regularized logistic regression:', accuracy_tr)\n",
    "\n",
    "y_validation_te = predict_labels(w_log, x_te)\n",
    "accuracy_te = sum(y_validation_te == y_te)/len(y_te)\n",
    "print('Accuracy for regularized logistic regression:', accuracy_te)"
   ]
  }
 ],
 "metadata": {
  "anaconda-cloud": {},
  "kernelspec": {
   "display_name": "Python 3",
   "language": "python",
   "name": "python3"
  },
  "language_info": {
   "codemirror_mode": {
    "name": "ipython",
    "version": 3
   },
   "file_extension": ".py",
   "mimetype": "text/x-python",
   "name": "python",
   "nbconvert_exporter": "python",
   "pygments_lexer": "ipython3",
   "version": "3.7.3"
  }
 },
 "nbformat": 4,
 "nbformat_minor": 4
}
