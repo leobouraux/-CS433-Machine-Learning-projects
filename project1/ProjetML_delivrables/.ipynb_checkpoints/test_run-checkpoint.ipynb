{
 "cells": [
  {
   "cell_type": "markdown",
   "metadata": {},
   "source": [
    "## TEST RUN"
   ]
  },
  {
   "cell_type": "code",
   "execution_count": 5,
   "metadata": {},
   "outputs": [
    {
     "name": "stdout",
     "output_type": "stream",
     "text": [
      "Accuracy for GD (S train): 0.8185333333333333\n",
      "Accuracy for GD (S test): 0.818930909090909\n"
     ]
    },
    {
     "name": "stderr",
     "output_type": "stream",
     "text": [
      "\n",
      "KeyboardInterrupt\n",
      "\n"
     ]
    }
   ],
   "source": [
    "# -*- coding: utf-8 -*-\n",
    "\"\"\"\n",
    "Authors : Clélie de Witasse, David Sollander, Léo Bouraux\n",
    "\"\"\"\n",
    "\n",
    "from proj1_helpers import *\n",
    "from implementations import *\n",
    "from preprocess import *\n",
    "\n",
    "# Download training dataset and testing sataset\n",
    "#data_path_train     = '../data/train.csv'\n",
    "#yTrain, xTrain, ids = load_csv_data(data_path_train)\n",
    "\n",
    "#data_path_test     = '../data/test.csv'\n",
    "#_, xTest, ids_test = load_csv_data(data_path_test)\n",
    "\n",
    "# Parameters\n",
    "seed       = 3\n",
    "degree     = 12\n",
    "trainRatio = 0.45\n",
    "\n",
    "# Classification method on the training set\n",
    "pxTrain            = preprocessing(xTrain)\n",
    "xTr, xTe, yTr, yTe = split_data(pxTrain, yTrain, trainRatio, seed)\n",
    "\n",
    "xPolyTrain         = build_poly(xTr, degree)\n",
    "xPolyTest          = build_poly(xTe, degree)\n",
    "\n",
    "loss, w            = least_squares(yTr, xPolyTrain)\n",
    "\n",
    "y_validation_tr = predict_labels(w, xPolyTrain)\n",
    "accuracy_tr = sum(y_validation_tr == yTr)/len(yTr)\n",
    "print('Accuracy for GD (S train):', accuracy_tr)\n",
    "\n",
    "y_validation_te = predict_labels(w, xPolyTest)\n",
    "accuracy_te = sum(y_validation_te == yTe)/len(yTe)\n",
    "print('Accuracy for GD (S test):', accuracy_te)\n",
    "\n",
    "# Apply the learnt model on the testing set xTest\n",
    "pxTest  = preprocessing(xTest)\n",
    "xPoly   = build_poly(xTest, degree)\n",
    "yPred   = predict_labels(w, xPoly)\n",
    "#create_csv_submission(ids_test, yPred, \"submission.csv\")\n"
   ]
  },
  {
   "cell_type": "code",
   "execution_count": 3,
   "metadata": {},
   "outputs": [
    {
     "name": "stdout",
     "output_type": "stream",
     "text": [
      "(112500, 349) (137500, 29) (250000, 29) (112500, 29)\n"
     ]
    }
   ],
   "source": [
    "print(xPolyTrain.shape, yTr.shape, pxTrain.shape, xTr.shape)"
   ]
  },
  {
   "cell_type": "code",
   "execution_count": null,
   "metadata": {},
   "outputs": [],
   "source": []
  }
 ],
 "metadata": {
  "kernelspec": {
   "display_name": "Python 3",
   "language": "python",
   "name": "python3"
  },
  "language_info": {
   "codemirror_mode": {
    "name": "ipython",
    "version": 3
   },
   "file_extension": ".py",
   "mimetype": "text/x-python",
   "name": "python",
   "nbconvert_exporter": "python",
   "pygments_lexer": "ipython3",
   "version": "3.7.3"
  }
 },
 "nbformat": 4,
 "nbformat_minor": 4
}
