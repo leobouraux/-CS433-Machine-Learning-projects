{
 "cells": [
  {
   "cell_type": "code",
   "execution_count": 19,
   "metadata": {},
   "outputs": [
    {
     "name": "stdout",
     "output_type": "stream",
     "text": [
      "The autoreload extension is already loaded. To reload it, use:\n",
      "  %reload_ext autoreload\n"
     ]
    }
   ],
   "source": [
    "# Useful starting lines\n",
    "%matplotlib inline\n",
    "import numpy as np\n",
    "import matplotlib.pyplot as plt\n",
    "%load_ext autoreload\n",
    "%autoreload 2"
   ]
  },
  {
   "cell_type": "code",
   "execution_count": 20,
   "metadata": {},
   "outputs": [],
   "source": [
    "from proj1_helpers import *\n",
    "from implementations import *"
   ]
  },
  {
   "cell_type": "markdown",
   "metadata": {},
   "source": [
    "## Load the training data into feature matrix, class labels, and event ids"
   ]
  },
  {
   "cell_type": "code",
   "execution_count": 21,
   "metadata": {
    "jupyter": {
     "outputs_hidden": false
    }
   },
   "outputs": [],
   "source": [
    "DATA_TRAIN_PATH = '../data/train.csv' # TODO: download train data and supply path here \n",
    "y, tX, ids = load_csv_data(DATA_TRAIN_PATH)"
   ]
  },
  {
   "cell_type": "markdown",
   "metadata": {},
   "source": [
    "## Preprocessing the data\n",
    "\n",
    "Lets have a first see on the dataset. We observe that there is missing data all over tX. So we look at how many values are missing for each column, which corresponds to probilities to have a missing value in a column. "
   ]
  },
  {
   "cell_type": "markdown",
   "metadata": {},
   "source": [
    "A possible solution could be to remove columns with too many missing values, but these missing values may influence the final prediction. We therefore computed the probability of y given x=-999 and we saw in the results that if the proportion of -999 was very big, the conditional probability of y to be -1 is closer to 1 than the conditional probability of y to be 1 ! "
   ]
  },
  {
   "cell_type": "code",
   "execution_count": 22,
   "metadata": {},
   "outputs": [
    {
     "name": "stdout",
     "output_type": "stream",
     "text": [
      "Column 0 has 15.245600000000001 % of missing values and we have:\n",
      "P(y=1|x=-999) = 7.438211680747233 % \n",
      "P(y=-1|x=-999)= 92.56178831925277 % \n",
      "\n",
      "Column 4 has 70.9828 % of missing values and we have:\n",
      "P(y=1|x=-999) = 29.980220560473803 % \n",
      "P(y=-1|x=-999)= 70.0197794395262 % \n",
      "\n",
      "Column 5 has 70.9828 % of missing values and we have:\n",
      "P(y=1|x=-999) = 29.980220560473803 % \n",
      "P(y=-1|x=-999)= 70.0197794395262 % \n",
      "\n",
      "Column 6 has 70.9828 % of missing values and we have:\n",
      "P(y=1|x=-999) = 29.980220560473803 % \n",
      "P(y=-1|x=-999)= 70.0197794395262 % \n",
      "\n",
      "Column 12 has 70.9828 % of missing values and we have:\n",
      "P(y=1|x=-999) = 29.980220560473803 % \n",
      "P(y=-1|x=-999)= 70.0197794395262 % \n",
      "\n",
      "Column 23 has 39.9652 % of missing values and we have:\n",
      "P(y=1|x=-999) = 25.514197351695977 % \n",
      "P(y=-1|x=-999)= 74.48580264830402 % \n",
      "\n",
      "Column 24 has 39.9652 % of missing values and we have:\n",
      "P(y=1|x=-999) = 25.514197351695977 % \n",
      "P(y=-1|x=-999)= 74.48580264830402 % \n",
      "\n",
      "Column 25 has 39.9652 % of missing values and we have:\n",
      "P(y=1|x=-999) = 25.514197351695977 % \n",
      "P(y=-1|x=-999)= 74.48580264830402 % \n",
      "\n",
      "Column 26 has 70.9828 % of missing values and we have:\n",
      "P(y=1|x=-999) = 29.980220560473803 % \n",
      "P(y=-1|x=-999)= 70.0197794395262 % \n",
      "\n",
      "Column 27 has 70.9828 % of missing values and we have:\n",
      "P(y=1|x=-999) = 29.980220560473803 % \n",
      "P(y=-1|x=-999)= 70.0197794395262 % \n",
      "\n",
      "Column 28 has 70.9828 % of missing values and we have:\n",
      "P(y=1|x=-999) = 29.980220560473803 % \n",
      "P(y=-1|x=-999)= 70.0197794395262 % \n",
      "\n"
     ]
    }
   ],
   "source": [
    "for i in range(tX.shape[1]):\n",
    "    indexes = tX.T[i]<-900\n",
    "    indexes0 = np.logical_and(indexes,y<=0)\n",
    "    indexes1 = np.logical_and(indexes,y>0)\n",
    "    tX_nine= tX[indexes]\n",
    "    tX_nine0 = tX[indexes0]\n",
    "    tX_nine1 = tX[indexes1]\n",
    "    count_of_mins = np.count_nonzero(tX.T[i] < -900)\n",
    "    if(count_of_mins > 0):\n",
    "        print(\"Column\", i, \"has\", count_of_mins /tX.shape[0] * 100, \"% of missing values and we have:\")\n",
    "        print(\"P(y=1|x=-999) =\", (tX_nine1.shape[0]/tX_nine.shape[0]*100), \"% \")\n",
    "        print(\"P(y=-1|x=-999)=\", (tX_nine0.shape[0]/tX_nine.shape[0] *100), \"% \\n\")\n"
   ]
  },
  {
   "cell_type": "markdown",
   "metadata": {},
   "source": [
    "We see column #22 contains values in [0,1,2,3]. Depending on this value, some columns will contain the missing value, because they can't be computed. For this reason, we want the columns to keep depending on the value of column #22 !"
   ]
  },
  {
   "cell_type": "code",
   "execution_count": 23,
   "metadata": {},
   "outputs": [
    {
     "name": "stdout",
     "output_type": "stream",
     "text": [
      "(99913, 30)\n",
      "(77544, 30)\n",
      "(72543, 30)\n",
      "Columns #22 contains 0, a row contains 10 columns with missing value.\n",
      "Columns #22 contains 1, a row contains 7 columns with missing value.\n",
      "Columns #22 contains 2 or 3, a row contains 0 columns with missing value.\n"
     ]
    }
   ],
   "source": [
    "train_type0 = tX[tX[:, 22] == 0]\n",
    "\n",
    "train_type1 = tX[tX[:, 22] == 1]\n",
    "train_type2 = tX[tX[:, 22] == 2]\n",
    "train_type3 = tX[tX[:, 22] == 3]\n",
    "train_type23 = np.append(train_type2, train_type3, axis=0)\n",
    "print(train_type0.shape)\n",
    "print(train_type1.shape)\n",
    "print(train_type23.shape)\n",
    "\n",
    "columns_to_keep0 = np.count_nonzero(train_type0[0] == -999, axis=0)\n",
    "columns_to_keep1 = np.count_nonzero(train_type1[0] == -999, axis=0)\n",
    "columns_to_keep23 = np.count_nonzero(train_type23[0] == -999, axis=0)\n",
    "\n",
    "print(\"Columns #22 contains 0, a row contains\", columns_to_keep0, \"columns with missing value.\")\n",
    "print(\"Columns #22 contains 1, a row contains\", columns_to_keep1, \"columns with missing value.\")\n",
    "print(\"Columns #22 contains 2 or 3, a row contains\", columns_to_keep23, \"columns with missing value.\")"
   ]
  },
  {
   "cell_type": "markdown",
   "metadata": {},
   "source": [
    "It can be seen that column #0 has missing values that do not depend on column #22."
   ]
  },
  {
   "cell_type": "code",
   "execution_count": 24,
   "metadata": {},
   "outputs": [
    {
     "name": "stdout",
     "output_type": "stream",
     "text": [
      "col n°1 first 6 values, before preprocess: [ 138.47   160.937 -999.     143.905  175.864   89.744]\n",
      "col n°1 first 6 values, after preprocess:  [138.47       160.937      121.85852836 143.905      175.864\n",
      "  89.744     ]\n",
      "col n°2 first 6 values, after standardization:  [ 3.14910656e-01  7.40827026e-01 -1.00190288e-12  4.17944237e-01\n",
      "  1.02380444e+00 -6.08808624e-01] \n",
      "\n"
     ]
    }
   ],
   "source": [
    "def preprocess_data(y, tX0):\n",
    "    MISSING_DATA = -999\n",
    "    MISSING_DATA2 = 0\n",
    "    tX1 = np.delete(tX0, 22, axis=1)\n",
    "    \n",
    "    # replace missing data for all columns\n",
    "    x=tX1\n",
    "    print(\"col n°1 first 6 values, before preprocess:\", x[:, 0][:6])\n",
    "    replacement_values_by_col = np.ma.array(x, mask=[x==MISSING_DATA]).mean(axis=0)\n",
    "    replacement_values = np.tile(replacement_values_by_col, (len(x), 1))\n",
    "    x2= x.copy()\n",
    "    x2[x == MISSING_DATA] = replacement_values[x == MISSING_DATA]\n",
    "    # replace missing data for last column\n",
    "    last = tX[:,-1]\n",
    "    rvbc = np.ma.array(last, mask=[last==MISSING_DATA2]).mean(axis=0)\n",
    "    rv = np.tile(rvbc, (len(last), 1))\n",
    "    last2 = last.copy()\n",
    "    last2[last == MISSING_DATA2] = rv[last== MISSING_DATA2].flatten()\n",
    "    x2[:, -1] = last2\n",
    "    \n",
    "    \n",
    "    print(\"col n°1 first 6 values, after preprocess: \", x2[:, 0][:6])\n",
    "    standardized_x, _, _ = standardize(x2)\n",
    "    print(\"col n°2 first 6 values, after standardization: \", standardized_x[:, 0][:6], '\\n')\n",
    "    \n",
    "    return y, standardized_x\n",
    "\n",
    "y_train, tx_train = preprocess_data(y, tX)"
   ]
  },
  {
   "cell_type": "code",
   "execution_count": 14,
   "metadata": {},
   "outputs": [],
   "source": [
    "def preprocess_data2(y, tX0):\n",
    "    MISSING_DATA = -999\n",
    "    PJN = tX[:,22]\n",
    "\n",
    "    r_PNJ_0 = np.argwhere(PJN==0).flatten()\n",
    "    r_PNJ_1 = np.argwhere(PJN==1).flatten()\n",
    "    r_PNJ_23 = np.append(np.argwhere(PJN==2).flatten(), np.argwhere(PJN==3).flatten())\n",
    "    \n",
    "            \n",
    "    x0 = tX0[r_PNJ_0]\n",
    "    columns_to_del = np.argwhere(x0[0]==MISSING_DATA).flatten()\n",
    "    x00 = np.delete(x0, columns_to_del, axis=1)\n",
    "    x_0 = x00[:,:-2] #delete last column and PRI_jet_num column\n",
    "    x1 = tX0[r_PNJ_1]\n",
    "    columns_to_del = np.argwhere(x1[0]==MISSING_DATA).flatten()\n",
    "    x11 = np.delete(x1, columns_to_del, axis=1)\n",
    "    x_1 = np.delete(x11, -5, axis=1) #delete PRI_jet_num column\n",
    "    x23 = tX0[r_PNJ_23]\n",
    "    x_23 = np.delete(x23, 22, axis=1)\n",
    " \n",
    "    \n",
    "    # replace missing data for first column\n",
    "    replacement_values_by_col = np.ma.array(x_0, mask=[x_0==MISSING_DATA]).mean(axis=0)\n",
    "    replacement_values = np.tile(replacement_values_by_col, (len(x_0), 1))\n",
    "    x0= x_0.copy()\n",
    "    x0[x_0 == MISSING_DATA] = replacement_values[x_0 == MISSING_DATA]\n",
    "    replacement_values_by_col = np.ma.array(x_1, mask=[x_1==MISSING_DATA]).mean(axis=0)\n",
    "    replacement_values = np.tile(replacement_values_by_col, (len(x_1), 1))\n",
    "    x1= x_1.copy()\n",
    "    x1[x_1 == MISSING_DATA] = replacement_values[x_1 == MISSING_DATA]\n",
    "    replacement_values_by_col = np.ma.array(x_23, mask=[x_23==MISSING_DATA]).mean(axis=0)\n",
    "    replacement_values = np.tile(replacement_values_by_col, (len(x_23), 1))\n",
    "    x23= x_23.copy()\n",
    "    x23[x_23 == MISSING_DATA] = replacement_values[x_23 == MISSING_DATA]\n",
    "\n",
    "    \n",
    "    standardized_x0, _, _ = standardize(x0)\n",
    "    standardized_x1, _, _ = standardize(x1)\n",
    "    standardized_x23, _, _ = standardize(x23)    \n",
    "    \n",
    "    y_x0  = (y[r_PNJ_0], standardized_x0)\n",
    "    y_x1  = (y[r_PNJ_1], standardized_x1)\n",
    "    y_x23 = (y[r_PNJ_23], standardized_x23)\n",
    "    return y_x0, y_x1, y_x23\n",
    "\n",
    "y_x0, y_x1, y_x23 = preprocess_data2(y, tX)"
   ]
  },
  {
   "cell_type": "code",
   "execution_count": 15,
   "metadata": {},
   "outputs": [
    {
     "name": "stdout",
     "output_type": "stream",
     "text": [
      "(99913,) (99913, 18)\n",
      "(77544,) (77544, 22)\n",
      "(72543,) (72543, 29)\n"
     ]
    }
   ],
   "source": [
    "y_train0, tx_train0 = y_x0\n",
    "print(y_train0.shape, tx_train0.shape)\n",
    "y_train1, tx_train1 = y_x1\n",
    "print(y_train1.shape, tx_train1.shape)\n",
    "y_train23, tx_train23 = y_x23\n",
    "print(y_train23.shape, tx_train23.shape)"
   ]
  },
  {
   "cell_type": "markdown",
   "metadata": {},
   "source": [
    "## Least Squares \n",
    "***Test for least squares method***"
   ]
  },
  {
   "cell_type": "code",
   "execution_count": 25,
   "metadata": {},
   "outputs": [
    {
     "ename": "NameError",
     "evalue": "name 'split_data' is not defined",
     "output_type": "error",
     "traceback": [
      "\u001b[0;31m---------------------------------------------------------------------------\u001b[0m",
      "\u001b[0;31mNameError\u001b[0m                                 Traceback (most recent call last)",
      "\u001b[0;32m<ipython-input-25-8461cecbe477>\u001b[0m in \u001b[0;36m<module>\u001b[0;34m\u001b[0m\n\u001b[0;32m----> 1\u001b[0;31m \u001b[0mx_tr\u001b[0m\u001b[0;34m,\u001b[0m \u001b[0mx_te\u001b[0m\u001b[0;34m,\u001b[0m \u001b[0my_tr\u001b[0m\u001b[0;34m,\u001b[0m \u001b[0my_te\u001b[0m \u001b[0;34m=\u001b[0m \u001b[0msplit_data\u001b[0m\u001b[0;34m(\u001b[0m\u001b[0mtx_train23\u001b[0m\u001b[0;34m,\u001b[0m \u001b[0my_train23\u001b[0m\u001b[0;34m,\u001b[0m \u001b[0;36m0.95\u001b[0m\u001b[0;34m)\u001b[0m\u001b[0;34m\u001b[0m\u001b[0;34m\u001b[0m\u001b[0m\n\u001b[0m\u001b[1;32m      2\u001b[0m \u001b[0mpx_tr\u001b[0m \u001b[0;34m=\u001b[0m \u001b[0mbuild_poly\u001b[0m\u001b[0;34m(\u001b[0m\u001b[0mx_tr\u001b[0m\u001b[0;34m,\u001b[0m \u001b[0;36m1\u001b[0m\u001b[0;34m)\u001b[0m\u001b[0;34m\u001b[0m\u001b[0;34m\u001b[0m\u001b[0m\n\u001b[1;32m      3\u001b[0m \u001b[0mpx_te\u001b[0m \u001b[0;34m=\u001b[0m \u001b[0mbuild_poly\u001b[0m\u001b[0;34m(\u001b[0m\u001b[0mx_te\u001b[0m\u001b[0;34m,\u001b[0m \u001b[0;36m1\u001b[0m\u001b[0;34m)\u001b[0m\u001b[0;34m\u001b[0m\u001b[0;34m\u001b[0m\u001b[0m\n\u001b[1;32m      4\u001b[0m \u001b[0mprint\u001b[0m\u001b[0;34m(\u001b[0m\u001b[0my_tr\u001b[0m\u001b[0;34m.\u001b[0m\u001b[0mshape\u001b[0m\u001b[0;34m)\u001b[0m\u001b[0;34m\u001b[0m\u001b[0;34m\u001b[0m\u001b[0m\n\u001b[1;32m      5\u001b[0m \u001b[0mprint\u001b[0m\u001b[0;34m(\u001b[0m\u001b[0mpx_tr\u001b[0m\u001b[0;34m.\u001b[0m\u001b[0mshape\u001b[0m\u001b[0;34m)\u001b[0m\u001b[0;34m\u001b[0m\u001b[0;34m\u001b[0m\u001b[0m\n",
      "\u001b[0;31mNameError\u001b[0m: name 'split_data' is not defined"
     ]
    }
   ],
   "source": [
    "x_tr, x_te, y_tr, y_te = split_data(tx_train23, y_train23, 0.95)\n",
    "px_tr = build_poly(x_tr, 1)\n",
    "px_te = build_poly(x_te, 1)\n",
    "print(y_tr.shape)\n",
    "print(px_tr.shape)\n",
    "loss_LS, w_LS = least_squares(y_tr, px_tr)\n",
    "\n",
    "y_validation_tr = predict_labels(w_LS, px_tr)\n",
    "accuracy_tr = sum(y_validation_tr == y_tr)/len(y_tr)\n",
    "print('Accuracy for LS (S train):', accuracy_tr)\n",
    "\n",
    "y_validation_te = predict_labels(w_LS, px_te)\n",
    "accuracy_te = sum(y_validation_te == y_te)/len(y_te)\n",
    "print('Accuracy for LS (S test):', accuracy_te)"
   ]
  },
  {
   "cell_type": "markdown",
   "metadata": {},
   "source": [
    "***Best degree choice with least squares method using build poly***"
   ]
  },
  {
   "cell_type": "code",
   "execution_count": 377,
   "metadata": {
    "scrolled": true
   },
   "outputs": [
    {
     "name": "stdout",
     "output_type": "stream",
     "text": [
      "Deg: 6     (175, 175) (175,)\n",
      "Accuracy for LS (S test): 0.8023704520396913\n",
      "Deg: 7     (204, 204) (204,)\n",
      "Accuracy for LS (S test): 0.8106394707828004\n",
      "Deg: 8     (233, 233) (233,)\n",
      "Accuracy for LS (S test): 0.8211135611907387\n",
      "Deg: 9     (262, 262) (262,)\n",
      "Accuracy for LS (S test): 0.8252480705622933\n",
      "Deg: 10     (291, 291) (291,)\n",
      "Accuracy for LS (S test): 0.8257993384785005\n",
      "Deg: 11     (320, 320) (320,)\n",
      "Accuracy for LS (S test): 0.8235942668136714\n",
      "Deg: 12     (349, 349) (349,)\n",
      "Accuracy for LS (S test): 0.8252480705622933\n",
      "Deg: 13     (378, 378) (378,)\n",
      "Accuracy for LS (S test): 0.8244211686879823\n",
      "Deg: 14     (407, 407) (407,)\n",
      "Accuracy for LS (S test): 0.5350055126791621\n",
      "\n",
      "The best degree for least squares is:  10\n"
     ]
    }
   ],
   "source": [
    "def find_best_degree_LS(x_tr, x_te, y_tr, y_te, degrees):\n",
    "    accuracy = []\n",
    "    for deg in degrees:\n",
    "        print('Deg:', deg, end = '     ')\n",
    "        px_tr = build_poly(x_tr, deg)\n",
    "        px_te = build_poly(x_te, deg)\n",
    "        \n",
    "        loss, w = least_squares(y_tr, px_tr)\n",
    "        \n",
    "        y_validation_te = predict_labels(w, px_te)\n",
    "        accuracy_te = sum(y_validation_te == y_te)/len(y_te)\n",
    "        print('Accuracy for LS (S test):', accuracy_te)\n",
    "        accuracy.append(accuracy_te)\n",
    "            \n",
    "    index = np.nanargmax(accuracy)\n",
    "    best_deg = degrees[index]\n",
    "    return best_deg\n",
    "\n",
    "best_deg = find_best_degree_LS(x_tr, x_te, y_tr, y_te, range(6,15))\n",
    "print('\\nThe best degree for least squares is: ', best_deg)"
   ]
  },
  {
   "cell_type": "code",
   "execution_count": 378,
   "metadata": {},
   "outputs": [
    {
     "data": {
      "text/plain": [
       "0.827228921312325"
      ]
     },
     "execution_count": 378,
     "metadata": {},
     "output_type": "execute_result"
    }
   ],
   "source": [
    "a = 0.850480384307446*tx_train0.shape[0]+0.798607529654461*tx_train1.shape[0] + 0.8257993384785005*tx_train23.shape[0]\n",
    "a/tx_train.shape[0]\n",
    "\n",
    "\n"
   ]
  },
  {
   "cell_type": "markdown",
   "metadata": {},
   "source": [
    "BEST = 0.8218 en faisant le bail moyen sur la derniere colone"
   ]
  },
  {
   "cell_type": "markdown",
   "metadata": {},
   "source": [
    "***Best accuracy with least squares***"
   ]
  },
  {
   "cell_type": "code",
   "execution_count": 325,
   "metadata": {},
   "outputs": [
    {
     "name": "stdout",
     "output_type": "stream",
     "text": [
      "(349, 349) (349,)\n",
      "Accuracy for LS (S train): 0.818858947368421\n",
      "Accuracy for LS (S test): 0.818\n"
     ]
    }
   ],
   "source": [
    "##### Least squares test using build-poly with best-degree\n",
    "px_tr = build_poly(x_tr, best_deg)\n",
    "px_te = build_poly(x_te, best_deg)\n",
    "loss_LSp, w_LSp = least_squares(y_tr, px_tr)\n",
    "\n",
    "y_validation_tr = predict_labels(w_LSp, px_tr)\n",
    "accuracy_tr = sum(y_validation_tr == y_tr)/len(y_tr)\n",
    "print('Accuracy for LS (S train):', accuracy_tr)\n",
    "\n",
    "y_validation_te = predict_labels(w_LSp, px_te)\n",
    "accuracy_te = sum(y_validation_te == y_te)/len(y_te)\n",
    "print('Accuracy for LS (S test):', accuracy_te)"
   ]
  },
  {
   "cell_type": "markdown",
   "metadata": {},
   "source": [
    "## Gradient Descent\n",
    "\n",
    "***Test for least squares with gradient descent***"
   ]
  },
  {
   "cell_type": "code",
   "execution_count": 296,
   "metadata": {},
   "outputs": [
    {
     "name": "stdout",
     "output_type": "stream",
     "text": [
      "Accuracy for GD (S train): 0.740235\n",
      "Accuracy for GD (S test): 0.73864\n"
     ]
    }
   ],
   "source": [
    "gamma = 0.1\n",
    "degree = 1\n",
    "max_iters = 200\n",
    "\n",
    "x_tr, x_te, y_tr, y_te = split_data(tx_train, y_train, 0.8)\n",
    "px_tr = build_poly(x_tr, degree)\n",
    "px_te = build_poly(x_te, degree)\n",
    "\n",
    "initial_w = np.random.normal(0, 1, px_tr.shape[1])\n",
    "loss_GD, w_GD = least_squares_GD(y_tr, px_tr, initial_w, max_iters, gamma)\n",
    "\n",
    "\n",
    "y_validation_tr = predict_labels(w_GD, px_tr)\n",
    "accuracy_tr = sum(y_validation_tr == y_tr)/len(y_tr)\n",
    "print('Accuracy for GD (S train):', accuracy_tr)\n",
    "\n",
    "y_validation_te = predict_labels(w_GD, px_te)\n",
    "accuracy_te = sum(y_validation_te == y_te)/len(y_te)\n",
    "print('Accuracy for GD (S test):', accuracy_te)"
   ]
  },
  {
   "cell_type": "code",
   "execution_count": 295,
   "metadata": {},
   "outputs": [
    {
     "data": {
      "text/plain": [
       "0.7484849890960877"
      ]
     },
     "execution_count": 295,
     "metadata": {},
     "output_type": "execute_result"
    }
   ],
   "source": [
    "a = 0.8007806635640294*tx_train0.shape[0]+0.7047520794377459*tx_train1.shape[0] + 0.7232062857536702*tx_train23.shape[0]\n",
    "a/tx_train.shape[0]\n",
    "\n",
    "\n",
    "\n",
    "\n"
   ]
  },
  {
   "cell_type": "markdown",
   "metadata": {},
   "source": [
    "***Best gamma choice with least squares method for linear regression***"
   ]
  },
  {
   "cell_type": "code",
   "execution_count": 9,
   "metadata": {},
   "outputs": [],
   "source": [
    "np.random.seed(1)\n",
    "def find_best_gamma_GD(x, y, deg, gammas):\n",
    "    max_iters = 300\n",
    "    accuracy = []\n",
    "    print('Degree:', deg)\n",
    "\n",
    "    for gam in gammas:\n",
    "        x_tr, x_te, y_tr, y_te = split_data(x, y, 0.8)\n",
    "        px_tr = build_poly(x_tr, deg)\n",
    "        px_te = build_poly(x_te, deg)\n",
    "        initial_w = np.random.normal(0, 1, px_tr.shape[1])\n",
    "        \n",
    "        loss_GD, w_GD = least_squares_GD(y_tr, px_tr, initial_w, max_iters, gam)\n",
    "        \n",
    "        y_validation_te = predict_labels(w_GD, px_te)\n",
    "        accuracy_te = sum(y_validation_te == y_te)/len(y_te)\n",
    "        print('Gamma: ', gam, '    accuracy for GD (S test):', accuracy_te)\n",
    "        accuracy.append(accuracy_te)\n",
    "            \n",
    "    index = np.nanargmax(accuracy)\n",
    "    best_lambda = gammas[index]\n",
    "    return best_lambda, np.max(accuracy)"
   ]
  },
  {
   "cell_type": "code",
   "execution_count": 10,
   "metadata": {},
   "outputs": [
    {
     "name": "stdout",
     "output_type": "stream",
     "text": [
      "Degree: 1\n",
      "Gamma:  0.1     accuracy for GD (S test): 0.72742\n",
      "Gamma:  0.14444444444444446     accuracy for GD (S test): 0.73648\n",
      "Gamma:  0.18888888888888888     accuracy for GD (S test): 0.74008\n",
      "Gamma:  0.23333333333333334     accuracy for GD (S test): 0.74128\n",
      "Gamma:  0.2777777777777778     accuracy for GD (S test): 0.74274\n",
      "Gamma:  0.32222222222222224     accuracy for GD (S test): 0.74334\n",
      "Gamma:  0.3666666666666667     accuracy for GD (S test): 0.74372\n",
      "Gamma:  0.4111111111111111     accuracy for GD (S test): 0.3655\n",
      "Gamma:  0.4555555555555556     accuracy for GD (S test): 0.3655\n",
      "Gamma:  0.5     accuracy for GD (S test): 0.3655\n",
      "\n",
      "The best gamma for GD with degree 1 is:  0.3666666666666667  with an accuracy of:  0.74372\n"
     ]
    }
   ],
   "source": [
    "best_lambda, best_acc = find_best_gamma_GD(tx_train, y_train, 1, np.linspace(0.1, 0.5, 10))\n",
    "print('\\nThe best gamma for GD with degree 1 is: ', best_lambda, ' with an accuracy of: ', best_acc)"
   ]
  },
  {
   "cell_type": "markdown",
   "metadata": {},
   "source": [
    "We noticed that using a polynomial regression (using a degree greater than 2 with buildpoly) the GD had difficulties to converge.\n",
    "We assumed that this was a difficult task for GD because the gamma used is the same for all degrees of our polynomial. However, a gradient is optimal for a fixed order of magnitude not for the entire polynomial. So we decided to keep a linear regression in the case of GD and SGD, obviously it is not optimal compared to the other functions."
   ]
  },
  {
   "cell_type": "markdown",
   "metadata": {},
   "source": [
    "## Stochastic Gradient Descent\n",
    "\n",
    "***Test for least squares with stochastic gradient descent***"
   ]
  },
  {
   "cell_type": "code",
   "execution_count": 19,
   "metadata": {
    "scrolled": true
   },
   "outputs": [
    {
     "name": "stdout",
     "output_type": "stream",
     "text": [
      "Accuracy for SGD (S train): 0.72228\n",
      "Accuracy for SGD (S test): 0.71988\n"
     ]
    }
   ],
   "source": [
    "gamma = 0.01\n",
    "degree = 1\n",
    "max_iters = 200\n",
    "\n",
    "x_tr, x_te, y_tr, y_te = split_data(tx_train, y_train, 0.8)\n",
    "px_tr = build_poly(x_tr, degree)\n",
    "px_te = build_poly(x_te, degree)\n",
    "\n",
    "initial_w = np.zeros(px_tr.shape[1])\n",
    "loss_SGD, w_SGD = least_squares_SGD(y_tr, px_tr, initial_w, max_iters, gamma)\n",
    "\n",
    "\n",
    "y_validation_tr = predict_labels(w_SGD, px_tr)\n",
    "accuracy_tr = sum(y_validation_tr == y_tr)/len(y_tr)\n",
    "print('Accuracy for SGD (S train):', accuracy_tr)\n",
    "\n",
    "y_validation_te = predict_labels(w_SGD, px_te)\n",
    "accuracy_te = sum(y_validation_te == y_te)/len(y_te)\n",
    "print('Accuracy for SGD (S test):', accuracy_te)"
   ]
  },
  {
   "cell_type": "code",
   "execution_count": 25,
   "metadata": {},
   "outputs": [],
   "source": [
    "np.random.seed(1)\n",
    "def find_best_gamma_SGD(x, y, deg, gammas):\n",
    "    max_iters = 300\n",
    "    accuracy = []\n",
    "    print('Degree:', deg)\n",
    "\n",
    "    for gam in gammas:\n",
    "        x_tr, x_te, y_tr, y_te = split_data(x, y, 0.8)\n",
    "        px_tr = build_poly(x_tr, deg)\n",
    "        px_te = build_poly(x_te, deg)\n",
    "        initial_w = np.zeros(px_tr.shape[1])\n",
    "        \n",
    "        loss_SGD, w_SGD = least_squares_SGD(y_tr, px_tr, initial_w, max_iters, gam)\n",
    "        \n",
    "        y_validation_te = predict_labels(w_SGD, px_te)\n",
    "        accuracy_te = sum(y_validation_te == y_te)/len(y_te)\n",
    "        print('Gamma: ', gam, '    accuracy for SGD (S test):', accuracy_te)\n",
    "        accuracy.append(accuracy_te)\n",
    "            \n",
    "    index = np.nanargmax(accuracy)\n",
    "    best_lambda = gammas[index]\n",
    "    return best_lambda, np.max(accuracy)"
   ]
  },
  {
   "cell_type": "code",
   "execution_count": 27,
   "metadata": {},
   "outputs": [
    {
     "name": "stdout",
     "output_type": "stream",
     "text": [
      "Degree: 1\n",
      "Gamma:  0.0005     accuracy for SGD (S test): 0.70672\n",
      "Gamma:  0.001     accuracy for SGD (S test): 0.71024\n",
      "Gamma:  0.0015     accuracy for SGD (S test): 0.71104\n",
      "Gamma:  0.002     accuracy for SGD (S test): 0.71186\n",
      "Gamma:  0.0025     accuracy for SGD (S test): 0.71196\n",
      "Gamma:  0.003     accuracy for SGD (S test): 0.71178\n",
      "Gamma:  0.0035     accuracy for SGD (S test): 0.71174\n",
      "Gamma:  0.004     accuracy for SGD (S test): 0.7109\n",
      "Gamma:  0.0045000000000000005     accuracy for SGD (S test): 0.71054\n",
      "Gamma:  0.005     accuracy for SGD (S test): 0.70992\n",
      "\n",
      "The best gamma for GD with degree 1 is:  0.0025  with an accuracy of:  0.71196\n"
     ]
    }
   ],
   "source": [
    "best_lambda, best_acc = find_best_gamma_SGD(tx_train, y_train, 1, np.linspace(0.0005, 0.005, 10 ))\n",
    "print('\\nThe best gamma for SGD with degree 1 is: ', best_lambda, ' with an accuracy of: ', best_acc)"
   ]
  },
  {
   "cell_type": "markdown",
   "metadata": {},
   "source": [
    "## Ridge Regression"
   ]
  },
  {
   "cell_type": "code",
   "execution_count": 36,
   "metadata": {},
   "outputs": [
    {
     "name": "stdout",
     "output_type": "stream",
     "text": [
      "(250000,) (250000, 28)\n",
      "\n",
      "Lam: 0.0001\n",
      "Accuracy for Ridge (S test): 0.80288\n",
      "\n",
      "Lam: 0.0002\n",
      "Accuracy for Ridge (S test): 0.80352\n",
      "\n",
      "Lam: 0.0003\n",
      "Accuracy for Ridge (S test): 0.79652\n",
      "0.0002\n"
     ]
    }
   ],
   "source": [
    "def find_best_param_ridge(y, x, lambdas):\n",
    "    accuracy = []\n",
    "    for lam in lambdas:\n",
    "        print('\\nLam:', lam)\n",
    "        x_tr, x_te, y_tr, y_te = split_data(x, y, 0.8)\n",
    "        px_tr = build_poly(x_tr, 7)\n",
    "        px_te = build_poly(x_te, 7)\n",
    "        loss, w = ridge_regression(y_tr, px_tr, lam)\n",
    "    \n",
    "        y_validation_te = predict_labels(w, px_te)\n",
    "        #print(y_validation_te.shape, y_te.shape)\n",
    "        accuracy_te = sum(y_validation_te == y_te)/len(y_te)\n",
    "        print('Accuracy for Ridge (S test):', accuracy_te)\n",
    "        accuracy.append(accuracy_te)\n",
    "        \n",
    "    index = np.nanargmax(accuracy)\n",
    "    best_lam = lambdas[index]\n",
    "        \n",
    "    return best_lam\n",
    "\n",
    "print(y_train.shape, tx_train.shape)\n",
    "best_lambda = find_best_param_ridge(y_train, tx_train, [1e-4, 2e-4, 3e-4])\n",
    "\n",
    "print(best_lambda)"
   ]
  },
  {
   "cell_type": "code",
   "execution_count": 69,
   "metadata": {},
   "outputs": [],
   "source": [
    "def cross_validation(y, x, k_indices, k, lambda_, degree):\n",
    "    \"\"\"return the loss of ridge regression.\"\"\"\n",
    "    # get k'th subgroup in test, others in train:\n",
    "    x_test = x[k_indices[k]]\n",
    "    y_test = y[k_indices[k]]\n",
    "    \n",
    "    A = np.ones(y.shape, dtype = bool)\n",
    "    A[:]=True\n",
    "    A[k_indices[k]] = False\n",
    "    \n",
    "    x_train=x[A]\n",
    "    y_train = y[A]\n",
    "    \n",
    "    # form data with polynomial degree:\n",
    "    train_poly = build_poly(x_train, degree)\n",
    "    test_poly = build_poly(x_test, degree)\n",
    "    \n",
    "    # ridge regression:\n",
    "    loss, w = ridge_regression(y_train, train_poly, lambda_)\n",
    "    \n",
    "    # calculate the loss for train and test data:\n",
    "    e_tr = y_train-train_poly@w\n",
    "    e_te = y_test-test_poly@w\n",
    "    loss_tr = np.mean(e_tr**2)\n",
    "    loss_te = np.mean(e_te**2)\n",
    "    return loss_tr, loss_te\n",
    "\n",
    "def build_k_indices(y, k_fold, seed):\n",
    "    \"\"\"build k indices for k-fold.\"\"\"\n",
    "    num_row = y.shape[0]\n",
    "    interval = int(num_row / k_fold)\n",
    "    np.random.seed(seed)\n",
    "    indices = np.random.permutation(num_row)\n",
    "    k_indices = [indices[k * interval: (k + 1) * interval] for k in range(k_fold)]\n",
    "    return np.array(k_indices)"
   ]
  },
  {
   "cell_type": "code",
   "execution_count": 73,
   "metadata": {},
   "outputs": [
    {
     "name": "stdout",
     "output_type": "stream",
     "text": [
      "lambda =  1e-06 k_fold =  0\n",
      "lambda =  1e-06 k_fold =  1\n",
      "lambda =  1e-06 k_fold =  2\n",
      "lambda =  1e-06 k_fold =  3\n",
      "lambda =  1e-06 k_fold =  4\n",
      "lambda =  1e-06 k_fold =  5\n",
      "lambda =  1e-06 k_fold =  6\n",
      "lambda =  1e-06 k_fold =  7\n",
      "lambda =  1e-06 k_fold =  8\n",
      "lambda =  1e-06 k_fold =  9\n",
      "lambda =  5.994842503189409e-06 k_fold =  0\n",
      "lambda =  5.994842503189409e-06 k_fold =  1\n",
      "lambda =  5.994842503189409e-06 k_fold =  2\n",
      "lambda =  5.994842503189409e-06 k_fold =  3\n",
      "lambda =  5.994842503189409e-06 k_fold =  4\n",
      "lambda =  5.994842503189409e-06 k_fold =  5\n",
      "lambda =  5.994842503189409e-06 k_fold =  6\n",
      "lambda =  5.994842503189409e-06 k_fold =  7\n",
      "lambda =  5.994842503189409e-06 k_fold =  8\n",
      "lambda =  5.994842503189409e-06 k_fold =  9\n",
      "lambda =  3.5938136638046256e-05 k_fold =  0\n",
      "lambda =  3.5938136638046256e-05 k_fold =  1\n",
      "lambda =  3.5938136638046256e-05 k_fold =  2\n",
      "lambda =  3.5938136638046256e-05 k_fold =  3\n",
      "lambda =  3.5938136638046256e-05 k_fold =  4\n",
      "lambda =  3.5938136638046256e-05 k_fold =  5\n",
      "lambda =  3.5938136638046256e-05 k_fold =  6\n",
      "lambda =  3.5938136638046256e-05 k_fold =  7\n",
      "lambda =  3.5938136638046256e-05 k_fold =  8\n",
      "lambda =  3.5938136638046256e-05 k_fold =  9\n",
      "lambda =  0.00021544346900318845 k_fold =  0\n",
      "lambda =  0.00021544346900318845 k_fold =  1\n",
      "lambda =  0.00021544346900318845 k_fold =  2\n",
      "lambda =  0.00021544346900318845 k_fold =  3\n",
      "lambda =  0.00021544346900318845 k_fold =  4\n",
      "lambda =  0.00021544346900318845 k_fold =  5\n",
      "lambda =  0.00021544346900318845 k_fold =  6\n",
      "lambda =  0.00021544346900318845 k_fold =  7\n",
      "lambda =  0.00021544346900318845 k_fold =  8\n",
      "lambda =  0.00021544346900318845 k_fold =  9\n",
      "lambda =  0.001291549665014884 k_fold =  0\n",
      "lambda =  0.001291549665014884 k_fold =  1\n",
      "lambda =  0.001291549665014884 k_fold =  2\n",
      "lambda =  0.001291549665014884 k_fold =  3\n",
      "lambda =  0.001291549665014884 k_fold =  4\n",
      "lambda =  0.001291549665014884 k_fold =  5\n",
      "lambda =  0.001291549665014884 k_fold =  6\n",
      "lambda =  0.001291549665014884 k_fold =  7\n",
      "lambda =  0.001291549665014884 k_fold =  8\n",
      "lambda =  0.001291549665014884 k_fold =  9\n",
      "lambda =  0.007742636826811269 k_fold =  0\n",
      "lambda =  0.007742636826811269 k_fold =  1\n",
      "lambda =  0.007742636826811269 k_fold =  2\n",
      "lambda =  0.007742636826811269 k_fold =  3\n",
      "lambda =  0.007742636826811269 k_fold =  4\n",
      "lambda =  0.007742636826811269 k_fold =  5\n",
      "lambda =  0.007742636826811269 k_fold =  6\n",
      "lambda =  0.007742636826811269 k_fold =  7\n",
      "lambda =  0.007742636826811269 k_fold =  8\n",
      "lambda =  0.007742636826811269 k_fold =  9\n",
      "lambda =  0.04641588833612782 k_fold =  0\n",
      "lambda =  0.04641588833612782 k_fold =  1\n",
      "lambda =  0.04641588833612782 k_fold =  2\n",
      "lambda =  0.04641588833612782 k_fold =  3\n",
      "lambda =  0.04641588833612782 k_fold =  4\n",
      "lambda =  0.04641588833612782 k_fold =  5\n",
      "lambda =  0.04641588833612782 k_fold =  6\n",
      "lambda =  0.04641588833612782 k_fold =  7\n",
      "lambda =  0.04641588833612782 k_fold =  8\n",
      "lambda =  0.04641588833612782 k_fold =  9\n",
      "lambda =  0.2782559402207126 k_fold =  0\n",
      "lambda =  0.2782559402207126 k_fold =  1\n",
      "lambda =  0.2782559402207126 k_fold =  2\n",
      "lambda =  0.2782559402207126 k_fold =  3\n",
      "lambda =  0.2782559402207126 k_fold =  4\n",
      "lambda =  0.2782559402207126 k_fold =  5\n",
      "lambda =  0.2782559402207126 k_fold =  6\n",
      "lambda =  0.2782559402207126 k_fold =  7\n",
      "lambda =  0.2782559402207126 k_fold =  8\n",
      "lambda =  0.2782559402207126 k_fold =  9\n",
      "lambda =  1.6681005372000592 k_fold =  0\n",
      "lambda =  1.6681005372000592 k_fold =  1\n",
      "lambda =  1.6681005372000592 k_fold =  2\n",
      "lambda =  1.6681005372000592 k_fold =  3\n",
      "lambda =  1.6681005372000592 k_fold =  4\n",
      "lambda =  1.6681005372000592 k_fold =  5\n",
      "lambda =  1.6681005372000592 k_fold =  6\n",
      "lambda =  1.6681005372000592 k_fold =  7\n",
      "lambda =  1.6681005372000592 k_fold =  8\n",
      "lambda =  1.6681005372000592 k_fold =  9\n",
      "lambda =  10.0 k_fold =  0\n",
      "lambda =  10.0 k_fold =  1\n",
      "lambda =  10.0 k_fold =  2\n",
      "lambda =  10.0 k_fold =  3\n",
      "lambda =  10.0 k_fold =  4\n",
      "lambda =  10.0 k_fold =  5\n",
      "lambda =  10.0 k_fold =  6\n",
      "lambda =  10.0 k_fold =  7\n",
      "lambda =  10.0 k_fold =  8\n",
      "lambda =  10.0 k_fold =  9\n"
     ]
    },
    {
     "data": {
      "image/png": "[encoded data removed]",
      "text/plain": [
       "<Figure size 432x288 with 1 Axes>"
      ]
     },
     "metadata": {
      "needs_background": "light"
     },
     "output_type": "display_data"
    }
   ],
   "source": [
    "def cross_validation_demo():\n",
    "    seed = 1\n",
    "    degree = 7\n",
    "    k_fold = 10\n",
    "    lambdas = np.logspace(-6, 1, 10)\n",
    "    \n",
    "    # split data in k fold\n",
    "    k_indices = build_k_indices(y_train, k_fold, seed)\n",
    "    \n",
    "    # define lists to store the loss of training data and test data\n",
    "    rmse_tr_total = []\n",
    "    rmse_te_total = []\n",
    "    \n",
    "    # cross validation:\n",
    "    for lambda_ in lambdas:\n",
    "        rmse_tr = []\n",
    "        rmse_te = []\n",
    "        for k in range (k_fold):\n",
    "            print(\"lambda = \", lambda_, \"k_fold = \", k)\n",
    "            rmse_tr_tmp, rmse_te_tmp = cross_validation(y_train, tx_train, k_indices, k, lambda_, degree)\n",
    "            rmse_tr.append(np.sqrt(rmse_tr_tmp))\n",
    "            rmse_te.append(np.sqrt(rmse_te_tmp))\n",
    "        rmse_tr_total.append(np.mean(rmse_tr))\n",
    "        rmse_te_total.append(np.mean(rmse_te))\n",
    "        \n",
    "    cross_validation_visualization(lambdas, rmse_tr_total, rmse_te_total)\n",
    "\n",
    "cross_validation_demo()"
   ]
  },
  {
   "cell_type": "code",
   "execution_count": 74,
   "metadata": {},
   "outputs": [
    {
     "name": "stdout",
     "output_type": "stream",
     "text": [
      "Loss ridge : \n",
      " 325.1758083976528\n",
      "Weight ridge : \n",
      " [-2.83113814e-01  3.88289207e-01 -3.92986244e-01 -3.44771223e-01\n",
      "  1.17709405e-01  8.02411312e-02 -3.81000126e-02 -9.94487711e-02\n",
      "  1.83944582e-01 -5.03786693e-02 -1.35537824e-01 -1.90012376e-01\n",
      " -1.11034414e-01  8.53860515e-02  2.18152001e-01  2.09699383e-02\n",
      " -1.70684104e-02  2.38451019e-01  3.65273027e-03  7.43522661e-03\n",
      "  5.46088499e-03 -2.59732532e-03 -2.29182371e-02  9.56376909e-02\n",
      " -8.10257612e-03 -1.48374365e-02  1.01321956e-01 -2.23551974e-03\n",
      "  9.76539719e-03 -1.57421822e-01  1.09703165e-02 -4.65765768e-02\n",
      "  6.59350194e-02 -2.42575008e-03  7.81911248e-02 -1.28795764e-02\n",
      " -1.23848298e-02 -2.11364352e-02 -3.21981546e-02  1.02621065e-01\n",
      "  9.57267001e-03 -8.75961137e-02 -8.70448164e-02  9.09791055e-03\n",
      " -8.30882110e-03 -9.56094646e-02 -4.13120489e-02  1.06389388e-02\n",
      "  3.42979933e-02 -8.45899446e-03 -7.09248093e-02 -3.03090373e-02\n",
      "  1.06138194e-01  3.20917924e-02 -1.29096671e-02  5.47298704e-02\n",
      " -4.70129787e-02 -7.20539858e-02  9.38851704e-02  3.83990967e-02\n",
      " -6.86270483e-02 -3.65679742e-02 -3.27200672e-02  5.17415290e-04\n",
      "  1.35375998e-02  2.23725823e-02 -1.89473415e-02 -3.28514802e-02\n",
      "  1.85830331e-01  7.36976328e-03  1.40822975e-02 -2.31335523e-02\n",
      " -1.98698455e-02  4.96853075e-02 -1.55853453e-02  8.16652440e-03\n",
      " -3.57170314e-02 -2.10243205e-02  1.95718174e-02  3.27882536e-02\n",
      " -2.00239008e-03  1.48133183e-02 -9.48812541e-05 -1.34869672e-04\n",
      " -1.18657397e-02  3.18082166e-02 -2.80801626e-02 -6.31165896e-03\n",
      "  3.09693764e-02  7.28572766e-03  5.69382860e-03  4.65890992e-04\n",
      " -1.53757376e-02 -4.49198319e-03  1.23631532e-02  4.92836353e-03\n",
      " -6.18466551e-03  4.28177696e-02 -6.05100688e-04 -2.79527846e-02\n",
      "  1.20282822e-03 -1.11961311e-02 -1.16940654e-02 -7.25756213e-03\n",
      "  1.21130160e-02  1.23755235e-02 -7.80823868e-04 -1.22042247e-02\n",
      " -4.10734085e-03 -1.26542262e-02  2.23446894e-04 -1.14473339e-03\n",
      "  1.01842853e-02 -4.12772336e-03  3.23671701e-03  4.42655672e-04\n",
      " -6.64783378e-03  2.63546316e-03 -4.81979920e-04  3.98102386e-06\n",
      "  4.31318609e-03  3.76335834e-04 -2.34454510e-03 -3.68589554e-04\n",
      "  7.94500750e-02 -9.84161322e-03 -3.59822812e-05  1.18379158e-02\n",
      "  1.83953834e-02  1.16875137e-03  9.13557329e-03 -7.31014920e-03\n",
      " -1.77142134e-03  2.17837423e-02 -2.56738144e-04  1.92275583e-03\n",
      "  9.89539573e-04 -5.23009440e-03 -2.24274474e-05  1.87241205e-05\n",
      "  2.58576537e-03  2.20359277e-04 -1.65178551e-04 -1.41712217e-05\n",
      "  6.49446957e-04 -9.93149856e-04  1.95113200e-05 -7.00468733e-06\n",
      "  2.71378849e-03 -1.42772239e-05  1.89787242e-04  1.33012887e-05\n",
      "  6.67883864e-03 -5.01271433e-03  3.33789555e-06  4.83920253e-03\n",
      "  6.25689418e-04 -5.64638741e-05  2.66271946e-03  1.68651756e-03\n",
      "  1.16248293e-04 -3.47140377e-03  2.11194643e-05 -1.34247152e-04\n",
      " -8.68141276e-05  1.40605510e-03  8.56420827e-07  1.55376376e-06\n",
      " -6.24221850e-04 -4.17905366e-06  3.11203714e-06  1.70078130e-07\n",
      " -2.32355367e-05  8.86119647e-05 -3.01510893e-07  2.84491440e-07\n",
      " -7.40084047e-04  2.02741360e-07 -5.60963526e-06 -1.84260815e-07\n",
      " -8.54941959e-02  1.44277639e-03 -6.46964883e-08 -1.65998889e-03\n",
      " -4.17724060e-03  1.02240242e-06 -1.61612573e-03  1.49255389e-03\n",
      " -2.80348291e-06 -5.23455478e-03 -1.69703957e-07  3.42116010e-06\n",
      " -6.60035639e-05  6.56316694e-04 -1.14216035e-08  3.62603271e-07\n",
      " -1.55736467e-04]\n"
     ]
    }
   ],
   "source": [
    "##### Ridge test\n",
    "x_tr, x_te, y_tr, y_te = split_data(tx_train, y_train, 0.72)\n",
    "px_tr = build_poly(x_tr, 7)\n",
    "px_te = build_poly(x_te, 7)\n",
    "loss, w = ridge_regression(y_tr, px_tr, 0.0002)\n",
    "\n",
    "print(\"Loss ridge : \\n\", loss)\n",
    "print(\"Weight ridge : \\n\", w)"
   ]
  },
  {
   "cell_type": "code",
   "execution_count": 75,
   "metadata": {},
   "outputs": [
    {
     "name": "stdout",
     "output_type": "stream",
     "text": [
      "Accuracy for Ridge (S train): 0.8004833333333333\n",
      "Accuracy for Ridge (S test): 0.8005857142857142\n"
     ]
    }
   ],
   "source": [
    "y_validation_tr = predict_labels(w, px_tr)\n",
    "accuracy_tr = sum(y_validation_tr == y_tr)/len(y_tr)\n",
    "print('Accuracy for Ridge (S train):', accuracy_tr)\n",
    "\n",
    "y_validation_te = predict_labels(w, px_te)\n",
    "accuracy_te = sum(y_validation_te == y_te)/len(y_te)\n",
    "print('Accuracy for Ridge (S test):', accuracy_te)"
   ]
  },
  {
   "cell_type": "code",
   "execution_count": null,
   "metadata": {},
   "outputs": [],
   "source": []
  },
  {
   "cell_type": "code",
   "execution_count": null,
   "metadata": {},
   "outputs": [],
   "source": []
  },
  {
   "cell_type": "code",
   "execution_count": null,
   "metadata": {},
   "outputs": [],
   "source": []
  },
  {
   "cell_type": "code",
   "execution_count": null,
   "metadata": {},
   "outputs": [],
   "source": []
  },
  {
   "cell_type": "code",
   "execution_count": null,
   "metadata": {},
   "outputs": [],
   "source": []
  },
  {
   "cell_type": "code",
   "execution_count": null,
   "metadata": {},
   "outputs": [],
   "source": []
  },
  {
   "cell_type": "code",
   "execution_count": null,
   "metadata": {},
   "outputs": [],
   "source": []
  },
  {
   "cell_type": "code",
   "execution_count": null,
   "metadata": {},
   "outputs": [],
   "source": []
  },
  {
   "cell_type": "code",
   "execution_count": null,
   "metadata": {},
   "outputs": [],
   "source": []
  },
  {
   "cell_type": "code",
   "execution_count": null,
   "metadata": {},
   "outputs": [],
   "source": []
  },
  {
   "cell_type": "code",
   "execution_count": null,
   "metadata": {},
   "outputs": [],
   "source": []
  },
  {
   "cell_type": "markdown",
   "metadata": {},
   "source": [
    "***Logistic regression***"
   ]
  },
  {
   "cell_type": "code",
   "execution_count": 420,
   "metadata": {},
   "outputs": [
    {
     "name": "stdout",
     "output_type": "stream",
     "text": [
      " Gam: 5e-06  Lam: 0\n",
      " Gam: 5e-06  Lam: 0.001\n",
      " Gam: 5e-06  Lam: 1e-06\n",
      " Gam: 5e-05  Lam: 0\n",
      " Gam: 5e-05  Lam: 0.001\n",
      " Gam: 5e-05  Lam: 1e-06\n",
      " Gam: 0.0005  Lam: 0\n",
      " Gam: 0.0005  Lam: 0.001\n",
      " Gam: 0.0005  Lam: 1e-06\n",
      " Gam: 0.005  Lam: 0\n",
      " Gam: 0.005  Lam: 0.001\n",
      " Gam: 0.005  Lam: 1e-06\n"
     ]
    }
   ],
   "source": [
    "def find_best_param_logreg(y, x, gammas, lambdas, seed, max_iters, batch_size):\n",
    "    best_losses = []\n",
    "    best_gammas = []\n",
    "    best_lambdas = []\n",
    "    for gam in gammas:\n",
    "        loss_gam_deg = []\n",
    "        for lam in lambdas:\n",
    "            print( ' Gam:', gam, ' Lam:', lam)\n",
    "            initial_w = np.zeros(x_tr.shape[1], dtype=np.float64)\n",
    "            loss, w = logistic_regression(y, x, initial_w, batch_size, max_iters, gam, lam)\n",
    "            if np.isnan(loss):\n",
    "                loss_gam_deg.append(10^999)\n",
    "            else:\n",
    "                loss_gam_deg.append(loss)\n",
    "        \n",
    "        index = np.nanargmin(loss_gam_deg)\n",
    "        \n",
    "        best_lam_for_gam = lambdas[index]\n",
    "        best_loss_for_gam = loss_gam_deg[index]\n",
    "        \n",
    "        best_losses.append(best_loss_for_gam)\n",
    "        best_lambdas.append(best_lam_for_gam)\n",
    "        \n",
    "    best_index = np.nanargmin(best_losses)\n",
    "    best_gam = gammas[best_index]\n",
    "    best_lam = best_lambdas[best_index]\n",
    "\n",
    "    return best_gam, best_lam\n",
    "\n",
    "lambdas=[0, 1e-3, 1e-6]\n",
    "gammas=[5e-6, 5e-5, 5e-4, 5e-3]\n",
    "best_gamma, best_lam = find_best_param_logreg(y_tr, x_tr, gammas, lambdas, 1, 24, 500)"
   ]
  },
  {
   "cell_type": "code",
   "execution_count": 85,
   "metadata": {},
   "outputs": [
    {
     "name": "stdout",
     "output_type": "stream",
     "text": [
      "5e-05 0\n"
     ]
    }
   ],
   "source": [
    "print(best_gamma, best_lam)\n",
    "initial_w = np.zeros(x_tr.shape[1], dtype=np.float64)\n",
    "loss_log, w_log = logistic_regression(y_tr, x_tr, initial_w, 1, 10, 5e-6, 0)"
   ]
  },
  {
   "cell_type": "code",
   "execution_count": 86,
   "metadata": {},
   "outputs": [
    {
     "name": "stdout",
     "output_type": "stream",
     "text": [
      "Accuracy for regularized logistic regression: 0.710416\n",
      "Accuracy for regularized logistic regression: 0.710928\n"
     ]
    }
   ],
   "source": [
    "y_validation_tr = predict_labels(w_log, x_tr)\n",
    "accuracy_tr = sum(y_validation_tr == y_tr)/len(y_tr)\n",
    "print('Accuracy for regularized logistic regression:', accuracy_tr)\n",
    "\n",
    "y_validation_te = predict_labels(w_log, x_te)\n",
    "accuracy_te = sum(y_validation_te == y_te)/len(y_te)\n",
    "print('Accuracy for regularized logistic regression:', accuracy_te)"
   ]
  },
  {
   "cell_type": "markdown",
   "metadata": {},
   "source": [
    "## Generate predictions and save ouput in csv format for submission:"
   ]
  },
  {
   "cell_type": "code",
   "execution_count": 9,
   "metadata": {
    "jupyter": {
     "outputs_hidden": false
    }
   },
   "outputs": [],
   "source": [
    "DATA_TEST_PATH = '../data/test.csv' # TODO: download train data and supply path here \n",
    "_, tX_test, ids_test = load_csv_data(DATA_TEST_PATH)"
   ]
  },
  {
   "cell_type": "code",
   "execution_count": 10,
   "metadata": {},
   "outputs": [
    {
     "name": "stdout",
     "output_type": "stream",
     "text": [
      "1.0\n",
      "47.575\n",
      "col n°1 first 6 values, before preprocess: [-999.     106.398  117.794  135.861   74.159   95.709]\n",
      "col n°1 first 6 values, after preprocess:  [121.87172934 106.398      117.794      135.861       74.159\n",
      "  95.709     ]\n",
      "col n°2 first 6 values, after standardization:  [-2.25397884e-12 -2.95946335e-01 -7.79895413e-02  2.67554982e-01\n",
      " -9.12540672e-01 -5.00381239e-01] \n",
      "\n"
     ]
    }
   ],
   "source": [
    "y_test, tx_test = preprocess_data(_, tX_test)"
   ]
  },
  {
   "cell_type": "code",
   "execution_count": 11,
   "metadata": {
    "jupyter": {
     "outputs_hidden": false
    }
   },
   "outputs": [],
   "source": [
    "OUTPUT_PATH = 'output.csv' # TODO: fill in desired name of output file for submission\n",
    "\n",
    "px_te = build_poly(tx_test, 7)\n",
    "y_pred = predict_labels(w_LSp, px_te)\n",
    "create_csv_submission(ids_test, y_pred, OUTPUT_PATH)"
   ]
  },
  {
   "cell_type": "code",
   "execution_count": null,
   "metadata": {
    "collapsed": true,
    "jupyter": {
     "outputs_hidden": true
    }
   },
   "outputs": [],
   "source": []
  },
  {
   "cell_type": "code",
   "execution_count": null,
   "metadata": {},
   "outputs": [],
   "source": []
  },
  {
   "cell_type": "code",
   "execution_count": null,
   "metadata": {},
   "outputs": [],
   "source": []
  },
  {
   "cell_type": "code",
   "execution_count": null,
   "metadata": {},
   "outputs": [],
   "source": []
  },
  {
   "cell_type": "code",
   "execution_count": null,
   "metadata": {},
   "outputs": [],
   "source": []
  },
  {
   "cell_type": "code",
   "execution_count": null,
   "metadata": {},
   "outputs": [],
   "source": []
  },
  {
   "cell_type": "code",
   "execution_count": null,
   "metadata": {},
   "outputs": [],
   "source": []
  },
  {
   "cell_type": "code",
   "execution_count": null,
   "metadata": {},
   "outputs": [],
   "source": []
  }
 ],
 "metadata": {
  "anaconda-cloud": {},
  "kernelspec": {
   "display_name": "Python 3",
   "language": "python",
   "name": "python3"
  },
  "language_info": {
   "codemirror_mode": {
    "name": "ipython",
    "version": 3
   },
   "file_extension": ".py",
   "mimetype": "text/x-python",
   "name": "python",
   "nbconvert_exporter": "python",
   "pygments_lexer": "ipython3",
   "version": "3.7.3"
  }
 },
 "nbformat": 4,
 "nbformat_minor": 4
}
