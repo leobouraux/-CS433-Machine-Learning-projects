{
 "cells": [
  {
   "cell_type": "code",
   "execution_count": 1,
   "metadata": {},
   "outputs": [],
   "source": [
    "# Useful starting lines\n",
    "%matplotlib inline\n",
    "import numpy as np\n",
    "import matplotlib.pyplot as plt\n",
    "%load_ext autoreload\n",
    "%autoreload 2"
   ]
  },
  {
   "cell_type": "markdown",
   "metadata": {},
   "source": [
    "***Load the training data into feature matrix, class labels, and event ids***"
   ]
  },
  {
   "cell_type": "code",
   "execution_count": 4,
   "metadata": {
    "jupyter": {
     "outputs_hidden": false
    }
   },
   "outputs": [],
   "source": [
    "from proj1_helpers import *\n",
    "from functions import *\n",
    "DATA_TRAIN_PATH = '../data/train.csv' # TODO: download train data and supply path here \n",
    "y, tX, ids = load_csv_data(DATA_TRAIN_PATH)\n",
    "\n",
    "# Correction format de tx et y\n",
    "tx = np.c_[np.ones((y.shape[0], 1)), tX]\n",
    "y = np.expand_dims(y, axis=1)"
   ]
  },
  {
   "cell_type": "code",
   "execution_count": 5,
   "metadata": {},
   "outputs": [
    {
     "name": "stdout",
     "output_type": "stream",
     "text": [
      "[[ 1.]\n",
      " [-1.]\n",
      " [-1.]\n",
      " ...\n",
      " [ 1.]\n",
      " [-1.]\n",
      " [-1.]]\n"
     ]
    }
   ],
   "source": [
    "print(y)"
   ]
  },
  {
   "cell_type": "markdown",
   "metadata": {},
   "source": [
    "***Code***"
   ]
  },
  {
   "cell_type": "markdown",
   "metadata": {},
   "source": [
    "Le set est déjà divisé en training set et en validation set.\n",
    "- Bootstrap\n",
    "- K fold cross validation\n",
    "- LOOCV\n",
    "- logistic regression"
   ]
  },
  {
   "cell_type": "code",
   "execution_count": 6,
   "metadata": {},
   "outputs": [
    {
     "name": "stdout",
     "output_type": "stream",
     "text": [
      "Loss : \n",
      " [[0.3394456]]\n",
      "Weight : \n",
      " [[-3.60658249e-01]\n",
      " [ 7.23002324e-05]\n",
      " [-7.14479558e-03]\n",
      " [-6.24050466e-03]\n",
      " [-4.77093981e-04]\n",
      " [-3.08362917e-03]\n",
      " [ 4.49414410e-04]\n",
      " [-2.38156623e-02]\n",
      " [ 3.42160677e-01]\n",
      " [-1.09967260e-04]\n",
      " [-2.84138692e+00]\n",
      " [-2.16217554e-01]\n",
      " [ 9.55439870e-02]\n",
      " [ 4.52045508e-02]\n",
      " [ 2.84995341e+00]\n",
      " [-2.62719969e-04]\n",
      " [-9.95642542e-04]\n",
      " [ 2.85442758e+00]\n",
      " [-3.54662741e-04]\n",
      " [ 8.49821611e-04]\n",
      " [ 3.69247840e-03]\n",
      " [ 2.18113351e-04]\n",
      " [-5.00574858e-04]\n",
      " [-2.11522352e-01]\n",
      " [-2.18882120e-04]\n",
      " [ 2.01549537e-04]\n",
      " [ 3.43135865e-04]\n",
      " [-6.98404092e-05]\n",
      " [-6.58071021e-03]\n",
      " [-1.18306604e-02]\n",
      " [ 2.84063441e+00]]\n"
     ]
    }
   ],
   "source": [
    "##### Least squares test\n",
    "\n",
    "loss, w = least_squares(y, tx)\n",
    "print(\"Loss : \\n\", loss)\n",
    "print(\"Weight : \\n\", w)"
   ]
  },
  {
   "cell_type": "code",
   "execution_count": 8,
   "metadata": {},
   "outputs": [
    {
     "name": "stdout",
     "output_type": "stream",
     "text": [
      "SGD(0/9): loss=75384.09771947966\n",
      "SGD(1/9): loss=7324002781.218479\n",
      "SGD(2/9): loss=409912782058037.0\n",
      "SGD(3/9): loss=3.5884571086974755e+19\n",
      "SGD(4/9): loss=1.8981792206686396e+24\n",
      "SGD(5/9): loss=1.6565657034980044e+29\n",
      "SGD(6/9): loss=1.6764071134194084e+34\n",
      "SGD(7/9): loss=1.8436834098224452e+39\n",
      "SGD(8/9): loss=2.4971252717485623e+41\n",
      "SGD(9/9): loss=9.578012482131268e+45\n",
      "Loss : \n",
      " 9.578012482131268e+45\n",
      "Weight : \n",
      " [[ 1.62196501e+39]\n",
      " [ 1.95818829e+41]\n",
      " [ 1.29650938e+40]\n",
      " [ 1.40457346e+41]\n",
      " [ 5.85915254e+40]\n",
      " [-1.61931736e+42]\n",
      " [-1.61912066e+42]\n",
      " [-1.61931954e+42]\n",
      " [ 4.49109182e+39]\n",
      " [ 9.96306604e+39]\n",
      " [ 1.71842447e+41]\n",
      " [ 2.25504870e+39]\n",
      " [ 1.30174701e+38]\n",
      " [-1.61931890e+42]\n",
      " [ 5.11422797e+40]\n",
      " [-1.42858595e+38]\n",
      " [-3.16459328e+39]\n",
      " [ 7.11187364e+40]\n",
      " [-2.21882763e+39]\n",
      " [ 3.04465587e+39]\n",
      " [ 2.24803906e+40]\n",
      " [ 2.51825299e+39]\n",
      " [ 2.28380180e+41]\n",
      " [ 1.62298891e+39]\n",
      " [ 4.95407792e+40]\n",
      " [ 2.51274526e+39]\n",
      " [-1.20807691e+39]\n",
      " [-1.61927952e+42]\n",
      " [-1.61932007e+42]\n",
      " [-1.61932304e+42]\n",
      " [ 4.95814306e+40]]\n"
     ]
    }
   ],
   "source": [
    "##### GD/SGD test\n",
    "\n",
    "gamma = 0.01\n",
    "max_iters = 10\n",
    "w = np.zeros((tx.shape[1], 1))\n",
    "\n",
    "loss, w = least_squares_SGD(y, tx, w, max_iters, gamma)\n",
    "print(\"Loss : \\n\", loss)\n",
    "print(\"Weight : \\n\", w)"
   ]
  },
  {
   "cell_type": "code",
   "execution_count": 10,
   "metadata": {},
   "outputs": [
    {
     "name": "stdout",
     "output_type": "stream",
     "text": [
      "Loss : \n",
      " [[0.34008118]]\n",
      "Weight : \n",
      " [[ 1.10267635e-04]\n",
      " [-7.48959311e-03]\n",
      " [-5.31682031e-03]\n",
      " [-9.73425196e-04]\n",
      " [-2.32248396e-02]\n",
      " [ 4.85195515e-04]\n",
      " [-2.61163439e-02]\n",
      " [ 2.66432070e-01]\n",
      " [-4.28653891e-05]\n",
      " [ 5.00572657e-03]\n",
      " [-1.90711597e-01]\n",
      " [ 9.46549961e-02]\n",
      " [ 6.42350490e-02]\n",
      " [ 3.35773788e-03]\n",
      " [-3.52599679e-04]\n",
      " [-1.05540028e-03]\n",
      " [ 6.83828569e-03]\n",
      " [-5.21642984e-04]\n",
      " [ 9.42197453e-04]\n",
      " [ 3.96216945e-03]\n",
      " [ 3.67255443e-04]\n",
      " [-5.94005461e-04]\n",
      " [-2.62135617e-01]\n",
      " [-7.57843142e-04]\n",
      " [ 4.52373725e-04]\n",
      " [ 6.77511514e-04]\n",
      " [-1.28423258e-03]\n",
      " [-4.51814512e-03]\n",
      " [-9.17206052e-03]\n",
      " [-5.14913250e-03]]\n"
     ]
    }
   ],
   "source": [
    "##### Ridge test\n",
    "lambda_ = 0.01\n",
    "loss, w = ridge_regression(y, tX, lambda_)\n",
    "\n",
    "print(\"Loss : \\n\", loss)\n",
    "print(\"Weight : \\n\", w)"
   ]
  },
  {
   "cell_type": "code",
   "execution_count": 11,
   "metadata": {},
   "outputs": [
    {
     "ename": "NameError",
     "evalue": "name 'w0' is not defined",
     "output_type": "error",
     "traceback": [
      "\u001b[0;31m---------------------------------------------------------------------------\u001b[0m",
      "\u001b[0;31mNameError\u001b[0m                                 Traceback (most recent call last)",
      "\u001b[0;32m<ipython-input-11-4d689f29935a>\u001b[0m in \u001b[0;36m<module>\u001b[0;34m\u001b[0m\n\u001b[1;32m      4\u001b[0m \u001b[0mw\u001b[0m \u001b[0;34m=\u001b[0m \u001b[0mnp\u001b[0m\u001b[0;34m.\u001b[0m\u001b[0mzeros\u001b[0m\u001b[0;34m(\u001b[0m\u001b[0;34m(\u001b[0m\u001b[0mtx\u001b[0m\u001b[0;34m.\u001b[0m\u001b[0mshape\u001b[0m\u001b[0;34m[\u001b[0m\u001b[0;36m1\u001b[0m\u001b[0;34m]\u001b[0m\u001b[0;34m,\u001b[0m \u001b[0;36m1\u001b[0m\u001b[0;34m)\u001b[0m\u001b[0;34m)\u001b[0m\u001b[0;34m\u001b[0m\u001b[0;34m\u001b[0m\u001b[0m\n\u001b[1;32m      5\u001b[0m \u001b[0;34m\u001b[0m\u001b[0m\n\u001b[0;32m----> 6\u001b[0;31m \u001b[0mloss\u001b[0m\u001b[0;34m,\u001b[0m \u001b[0mw\u001b[0m \u001b[0;34m=\u001b[0m \u001b[0mlog_reg\u001b[0m\u001b[0;34m(\u001b[0m\u001b[0my\u001b[0m\u001b[0;34m.\u001b[0m\u001b[0mT\u001b[0m\u001b[0;34m,\u001b[0m \u001b[0mtx\u001b[0m\u001b[0;34m,\u001b[0m \u001b[0mw0\u001b[0m\u001b[0;34m,\u001b[0m \u001b[0mmax_iters\u001b[0m\u001b[0;34m,\u001b[0m \u001b[0mgamma\u001b[0m\u001b[0;34m)\u001b[0m\u001b[0;34m\u001b[0m\u001b[0;34m\u001b[0m\u001b[0m\n\u001b[0m\u001b[1;32m      7\u001b[0m \u001b[0;34m\u001b[0m\u001b[0m\n\u001b[1;32m      8\u001b[0m \u001b[0mprint\u001b[0m\u001b[0;34m(\u001b[0m\u001b[0;34m\"Loss : \\n\"\u001b[0m\u001b[0;34m,\u001b[0m \u001b[0mloss\u001b[0m\u001b[0;34m)\u001b[0m\u001b[0;34m\u001b[0m\u001b[0;34m\u001b[0m\u001b[0m\n",
      "\u001b[0;31mNameError\u001b[0m: name 'w0' is not defined"
     ]
    }
   ],
   "source": [
    "#### Logistic regression test\n",
    "gamma = 0.01\n",
    "max_iters = 2\n",
    "w = np.zeros((tx.shape[1], 1))\n",
    "\n",
    "loss, w = log_reg(y.T, tx, w0, max_iters, gamma)\n",
    "\n",
    "print(\"Loss : \\n\", loss)\n",
    "print(\"Weight : \\n\", w)"
   ]
  },
  {
   "cell_type": "code",
   "execution_count": 15,
   "metadata": {},
   "outputs": [
    {
     "ename": "MemoryError",
     "evalue": "",
     "output_type": "error",
     "traceback": [
      "\u001b[0;31m---------------------------------------------------------------------------\u001b[0m",
      "\u001b[0;31mMemoryError\u001b[0m                               Traceback (most recent call last)",
      "\u001b[0;32m<ipython-input-15-f2426eb57c6b>\u001b[0m in \u001b[0;36m<module>\u001b[0;34m\u001b[0m\n\u001b[1;32m      5\u001b[0m \u001b[0mlambda_\u001b[0m \u001b[0;34m=\u001b[0m \u001b[0;36m0.01\u001b[0m\u001b[0;34m\u001b[0m\u001b[0;34m\u001b[0m\u001b[0m\n\u001b[1;32m      6\u001b[0m \u001b[0mw0\u001b[0m \u001b[0;34m=\u001b[0m \u001b[0mnp\u001b[0m\u001b[0;34m.\u001b[0m\u001b[0mzeros\u001b[0m\u001b[0;34m(\u001b[0m\u001b[0;34m(\u001b[0m\u001b[0mtX\u001b[0m\u001b[0;34m.\u001b[0m\u001b[0mshape\u001b[0m\u001b[0;34m[\u001b[0m\u001b[0;36m1\u001b[0m\u001b[0;34m]\u001b[0m\u001b[0;34m,\u001b[0m \u001b[0;36m1\u001b[0m\u001b[0;34m)\u001b[0m\u001b[0;34m)\u001b[0m\u001b[0;34m\u001b[0m\u001b[0;34m\u001b[0m\u001b[0m\n\u001b[0;32m----> 7\u001b[0;31m \u001b[0mloss\u001b[0m\u001b[0;34m,\u001b[0m \u001b[0mw\u001b[0m \u001b[0;34m=\u001b[0m \u001b[0mreg_log_reg\u001b[0m\u001b[0;34m(\u001b[0m\u001b[0my\u001b[0m\u001b[0;34m,\u001b[0m \u001b[0mtX\u001b[0m\u001b[0;34m,\u001b[0m \u001b[0mlambda_\u001b[0m\u001b[0;34m,\u001b[0m \u001b[0mw0\u001b[0m\u001b[0;34m,\u001b[0m \u001b[0mmax_iters\u001b[0m\u001b[0;34m,\u001b[0m \u001b[0mgamma\u001b[0m\u001b[0;34m)\u001b[0m\u001b[0;34m\u001b[0m\u001b[0;34m\u001b[0m\u001b[0m\n\u001b[0m\u001b[1;32m      8\u001b[0m \u001b[0;34m\u001b[0m\u001b[0m\n\u001b[1;32m      9\u001b[0m \u001b[0mprint\u001b[0m\u001b[0;34m(\u001b[0m\u001b[0;34m\"Loss : \\n\"\u001b[0m\u001b[0;34m,\u001b[0m \u001b[0mloss\u001b[0m\u001b[0;34m)\u001b[0m\u001b[0;34m\u001b[0m\u001b[0;34m\u001b[0m\u001b[0m\n",
      "\u001b[0;32m~/Bureau/EPFL/ML/ML_projects/project1/scripts/functions.py\u001b[0m in \u001b[0;36mreg_log_reg\u001b[0;34m(y, tx, lambda_, w0, max_iters, gamma)\u001b[0m\n\u001b[1;32m    140\u001b[0m         \u001b[0mA\u001b[0m \u001b[0;34m=\u001b[0m \u001b[0msigmoid\u001b[0m\u001b[0;34m(\u001b[0m\u001b[0mtx\u001b[0m\u001b[0;34m@\u001b[0m\u001b[0mw\u001b[0m\u001b[0;34m)\u001b[0m\u001b[0;34m\u001b[0m\u001b[0;34m\u001b[0m\u001b[0m\n\u001b[1;32m    141\u001b[0m         \u001b[0mloss\u001b[0m \u001b[0;34m=\u001b[0m \u001b[0mcompute_loss_loglike\u001b[0m\u001b[0;34m(\u001b[0m\u001b[0my\u001b[0m\u001b[0;34m,\u001b[0m \u001b[0mtx\u001b[0m\u001b[0;34m,\u001b[0m \u001b[0mw\u001b[0m\u001b[0;34m)\u001b[0m \u001b[0;34m+\u001b[0m \u001b[0mlambda_\u001b[0m\u001b[0;34m*\u001b[0m\u001b[0mw\u001b[0m\u001b[0;34m.\u001b[0m\u001b[0mT\u001b[0m\u001b[0;34m@\u001b[0m\u001b[0mw\u001b[0m\u001b[0;34m\u001b[0m\u001b[0;34m\u001b[0m\u001b[0m\n\u001b[0;32m--> 142\u001b[0;31m         \u001b[0mgradient\u001b[0m \u001b[0;34m=\u001b[0m \u001b[0mcompute_gradient\u001b[0m\u001b[0;34m(\u001b[0m\u001b[0my\u001b[0m\u001b[0;34m,\u001b[0m \u001b[0mtx\u001b[0m\u001b[0;34m,\u001b[0m \u001b[0mw\u001b[0m\u001b[0;34m)\u001b[0m \u001b[0;34m+\u001b[0m \u001b[0;36m2\u001b[0m\u001b[0;34m*\u001b[0m\u001b[0mlambda_\u001b[0m\u001b[0;34m*\u001b[0m\u001b[0mw\u001b[0m\u001b[0;34m\u001b[0m\u001b[0;34m\u001b[0m\u001b[0m\n\u001b[0m\u001b[1;32m    143\u001b[0m         \u001b[0mprint\u001b[0m\u001b[0;34m(\u001b[0m\u001b[0mgradient\u001b[0m\u001b[0;34m)\u001b[0m\u001b[0;34m\u001b[0m\u001b[0;34m\u001b[0m\u001b[0m\n\u001b[1;32m    144\u001b[0m         \u001b[0mw\u001b[0m \u001b[0;34m=\u001b[0m \u001b[0mw\u001b[0m \u001b[0;34m-\u001b[0m \u001b[0mgradient\u001b[0m \u001b[0;34m*\u001b[0m \u001b[0mgamma\u001b[0m\u001b[0;34m\u001b[0m\u001b[0;34m\u001b[0m\u001b[0m\n",
      "\u001b[0;32m~/Bureau/EPFL/ML/ML_projects/project1/scripts/functions.py\u001b[0m in \u001b[0;36mcompute_gradient\u001b[0;34m(y, tx, w)\u001b[0m\n\u001b[1;32m    129\u001b[0m     \u001b[0;34m\"\"\"compute the gradient of loss.\"\"\"\u001b[0m\u001b[0;34m\u001b[0m\u001b[0;34m\u001b[0m\u001b[0m\n\u001b[1;32m    130\u001b[0m     \u001b[0mA\u001b[0m \u001b[0;34m=\u001b[0m \u001b[0msigmoid\u001b[0m\u001b[0;34m(\u001b[0m\u001b[0mtx\u001b[0m\u001b[0;34m@\u001b[0m\u001b[0mw\u001b[0m\u001b[0;34m)\u001b[0m\u001b[0;34m\u001b[0m\u001b[0;34m\u001b[0m\u001b[0m\n\u001b[0;32m--> 131\u001b[0;31m     \u001b[0mgrad\u001b[0m \u001b[0;34m=\u001b[0m \u001b[0mtx\u001b[0m\u001b[0;34m.\u001b[0m\u001b[0mT\u001b[0m\u001b[0;34m@\u001b[0m\u001b[0;34m(\u001b[0m\u001b[0mA\u001b[0m \u001b[0;34m-\u001b[0m \u001b[0my\u001b[0m\u001b[0;34m)\u001b[0m\u001b[0;34m\u001b[0m\u001b[0;34m\u001b[0m\u001b[0m\n\u001b[0m\u001b[1;32m    132\u001b[0m     \u001b[0;32mreturn\u001b[0m \u001b[0mgrad\u001b[0m\u001b[0;34m\u001b[0m\u001b[0;34m\u001b[0m\u001b[0m\n\u001b[1;32m    133\u001b[0m \u001b[0;34m\u001b[0m\u001b[0m\n",
      "\u001b[0;31mMemoryError\u001b[0m: "
     ]
    }
   ],
   "source": [
    "##### Penalized logistic regression test\n",
    "\n",
    "gamma = 0.01\n",
    "max_iters = 2\n",
    "lambda_ = 0.01\n",
    "w0 = np.zeros((tX.shape[1], 1))\n",
    "loss, w = reg_log_reg(y, tX, lambda_, w0, max_iters, gamma)\n",
    "\n",
    "print(\"Loss : \\n\", loss)\n",
    "print(\"\\n\")\n",
    "print(\"Weight : \\n\", w)"
   ]
  },
  {
   "cell_type": "code",
   "execution_count": 31,
   "metadata": {},
   "outputs": [
    {
     "name": "stdout",
     "output_type": "stream",
     "text": [
      "[[   1.     138.47    51.655 ...    1.24    -2.475  113.497]\n",
      " [   1.     160.937   68.768 ... -999.    -999.      46.226]\n",
      " [   1.    -999.     162.172 ... -999.    -999.      44.251]\n",
      " ...\n",
      " [   1.     105.457   60.526 ... -999.    -999.      41.992]\n",
      " [   1.      94.951   19.362 ... -999.    -999.       0.   ]\n",
      " [   1.    -999.      72.756 ... -999.    -999.       0.   ]]\n"
     ]
    }
   ],
   "source": [
    "print(tx)"
   ]
  },
  {
   "cell_type": "markdown",
   "metadata": {},
   "source": [
    "## Generate predictions and save ouput in csv format for submission:"
   ]
  },
  {
   "cell_type": "code",
   "execution_count": 3,
   "metadata": {
    "jupyter": {
     "outputs_hidden": false
    }
   },
   "outputs": [],
   "source": [
    "DATA_TEST_PATH = 'test.csv' # TODO: download train data and supply path here \n",
    "_, tX_test, ids_test = load_csv_data(DATA_TEST_PATH)"
   ]
  },
  {
   "cell_type": "code",
   "execution_count": 4,
   "metadata": {
    "jupyter": {
     "outputs_hidden": false
    }
   },
   "outputs": [
    {
     "ename": "NameError",
     "evalue": "name 'weights' is not defined",
     "output_type": "error",
     "traceback": [
      "\u001b[0;31m---------------------------------------------------------------------------\u001b[0m",
      "\u001b[0;31mNameError\u001b[0m                                 Traceback (most recent call last)",
      "\u001b[0;32m<ipython-input-4-f8b7bfc39385>\u001b[0m in \u001b[0;36m<module>\u001b[0;34m\u001b[0m\n\u001b[1;32m      1\u001b[0m \u001b[0mOUTPUT_PATH\u001b[0m \u001b[0;34m=\u001b[0m \u001b[0;34m'output.csv'\u001b[0m \u001b[0;31m# TODO: fill in desired name of output file for submission\u001b[0m\u001b[0;34m\u001b[0m\u001b[0;34m\u001b[0m\u001b[0m\n\u001b[0;32m----> 2\u001b[0;31m \u001b[0my_pred\u001b[0m \u001b[0;34m=\u001b[0m \u001b[0mpredict_labels\u001b[0m\u001b[0;34m(\u001b[0m\u001b[0mweights\u001b[0m\u001b[0;34m,\u001b[0m \u001b[0mtX_test\u001b[0m\u001b[0;34m)\u001b[0m\u001b[0;34m\u001b[0m\u001b[0;34m\u001b[0m\u001b[0m\n\u001b[0m\u001b[1;32m      3\u001b[0m \u001b[0mcreate_csv_submission\u001b[0m\u001b[0;34m(\u001b[0m\u001b[0mids_test\u001b[0m\u001b[0;34m,\u001b[0m \u001b[0my_pred\u001b[0m\u001b[0;34m,\u001b[0m \u001b[0mOUTPUT_PATH\u001b[0m\u001b[0;34m)\u001b[0m\u001b[0;34m\u001b[0m\u001b[0;34m\u001b[0m\u001b[0m\n",
      "\u001b[0;31mNameError\u001b[0m: name 'weights' is not defined"
     ]
    }
   ],
   "source": [
    "OUTPUT_PATH = 'output.csv' # TODO: fill in desired name of output file for submission\n",
    "y_pred = predict_labels(weights, tX_test)\n",
    "create_csv_submission(ids_test, y_pred, OUTPUT_PATH)"
   ]
  },
  {
   "cell_type": "code",
   "execution_count": null,
   "metadata": {
    "collapsed": true,
    "jupyter": {
     "outputs_hidden": true
    }
   },
   "outputs": [],
   "source": []
  }
 ],
 "metadata": {
  "anaconda-cloud": {},
  "kernelspec": {
   "display_name": "Python 3",
   "language": "python",
   "name": "python3"
  },
  "language_info": {
   "codemirror_mode": {
    "name": "ipython",
    "version": 3
   },
   "file_extension": ".py",
   "mimetype": "text/x-python",
   "name": "python",
   "nbconvert_exporter": "python",
   "pygments_lexer": "ipython3",
   "version": "3.7.3"
  }
 },
 "nbformat": 4,
 "nbformat_minor": 4
}
