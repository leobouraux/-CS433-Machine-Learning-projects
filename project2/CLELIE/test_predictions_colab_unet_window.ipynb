{
  "nbformat": 4,
  "nbformat_minor": 0,
  "metadata": {
    "accelerator": "GPU",
    "colab": {
      "name": "test_predictions.ipynb",
      "provenance": [],
      "collapsed_sections": [],
      "toc_visible": true
    },
    "kernelspec": {
      "name": "python3",
      "display_name": "Python 3"
    },
    "language_info": {
      "codemirror_mode": {
        "name": "ipython",
        "version": 3
      },
      "file_extension": ".py",
      "mimetype": "text/x-python",
      "name": "python",
      "nbconvert_exporter": "python",
      "pygments_lexer": "ipython3",
      "version": "3.7.4"
    }
  },
  "cells": [
    {
      "cell_type": "code",
      "metadata": {
        "id": "NuKkBGxxtffk",
        "colab_type": "code",
        "outputId": "6bc0db2a-b875-4b44-9a89-42ca3b81ceb4",
        "colab": {
          "base_uri": "https://localhost:8080/",
          "height": 124
        }
      },
      "source": [
        "from google.colab import drive\n",
        "drive.mount('/content/drive')"
      ],
      "execution_count": 1,
      "outputs": [
        {
          "output_type": "stream",
          "text": [
            "Go to this URL in a browser: https://accounts.google.com/o/oauth2/auth?client_id=947318989803-6bn6qk8qdgf4n4g3pfee6491hc0brc4i.apps.googleusercontent.com&redirect_uri=urn%3aietf%3awg%3aoauth%3a2.0%3aoob&response_type=code&scope=email%20https%3a%2f%2fwww.googleapis.com%2fauth%2fdocs.test%20https%3a%2f%2fwww.googleapis.com%2fauth%2fdrive%20https%3a%2f%2fwww.googleapis.com%2fauth%2fdrive.photos.readonly%20https%3a%2f%2fwww.googleapis.com%2fauth%2fpeopleapi.readonly\n",
            "\n",
            "Enter your authorization code:\n",
            "··········\n",
            "Mounted at /content/drive\n"
          ],
          "name": "stdout"
        }
      ]
    },
    {
      "cell_type": "markdown",
      "metadata": {
        "colab_type": "text",
        "id": "392cOSqPFERU"
      },
      "source": [
        "### Link Google Drive"
      ]
    },
    {
      "cell_type": "code",
      "metadata": {
        "colab_type": "code",
        "id": "lCzJUkcCEl_v",
        "outputId": "f47ca308-7bbe-47f0-fb12-74cac38e3cec",
        "colab": {
          "base_uri": "https://localhost:8080/",
          "height": 34
        }
      },
      "source": [
        "from google.colab import drive\n",
        "drive.mount('/content/gdrive')\n",
        "root_path = 'gdrive/My Drive/'  #change dir to your project folder\n"
      ],
      "execution_count": 2,
      "outputs": [
        {
          "output_type": "stream",
          "text": [
            "Mounted at /content/gdrive\n"
          ],
          "name": "stdout"
        }
      ]
    },
    {
      "cell_type": "markdown",
      "metadata": {
        "colab_type": "text",
        "id": "hdl6pIq8FQPC"
      },
      "source": [
        "### Try your GPU power"
      ]
    },
    {
      "cell_type": "code",
      "metadata": {
        "colab_type": "code",
        "id": "MUsW6qc9EZb4",
        "outputId": "225805dc-7fa9-42cb-d682-c09a67b6a622",
        "colab": {
          "base_uri": "https://localhost:8080/",
          "height": 98
        }
      },
      "source": [
        "import tensorflow as tf\n",
        "tf.test.gpu_device_name()"
      ],
      "execution_count": 3,
      "outputs": [
        {
          "output_type": "display_data",
          "data": {
            "text/html": [
              "<p style=\"color: red;\">\n",
              "The default version of TensorFlow in Colab will soon switch to TensorFlow 2.x.<br>\n",
              "We recommend you <a href=\"https://www.tensorflow.org/guide/migrate\" target=\"_blank\">upgrade</a> now \n",
              "or ensure your notebook will continue to use TensorFlow 1.x via the <code>%tensorflow_version 1.x</code> magic:\n",
              "<a href=\"https://colab.research.google.com/notebooks/tensorflow_version.ipynb\" target=\"_blank\">more info</a>.</p>\n"
            ],
            "text/plain": [
              "<IPython.core.display.HTML object>"
            ]
          },
          "metadata": {
            "tags": []
          }
        },
        {
          "output_type": "execute_result",
          "data": {
            "text/plain": [
              "'/device:GPU:0'"
            ]
          },
          "metadata": {
            "tags": []
          },
          "execution_count": 3
        }
      ]
    },
    {
      "cell_type": "code",
      "metadata": {
        "colab_type": "code",
        "id": "pzfBKZdjEqmi",
        "outputId": "ceb7982f-0f7c-427a-b138-2eb2a40c7cf2",
        "colab": {
          "base_uri": "https://localhost:8080/",
          "height": 263
        }
      },
      "source": [
        "!ln -sf /opt/bin/nvidia-smi /usr/bin/nvidia-smi\n",
        "!pip install gputil\n",
        "!pip install psutil\n",
        "!pip install humanize\n",
        "import psutil\n",
        "import humanize\n",
        "import os\n",
        "import GPUtil as GPU\n",
        "GPUs = GPU.getGPUs()\n",
        "# XXX: only one GPU on Colab and isn’t guaranteed\n",
        "gpu = GPUs[0]\n",
        "def printm():\n",
        " process = psutil.Process(os.getpid())\n",
        " print(\"Gen RAM Free: \" + humanize.naturalsize( psutil.virtual_memory().available ), \" | Proc size: \" + humanize.naturalsize( process.memory_info().rss))\n",
        " print(\"GPU RAM Free: {0:.0f}MB | Used: {1:.0f}MB | Util {2:3.0f}% | Total {3:.0f}MB\".format(gpu.memoryFree, gpu.memoryUsed, gpu.memoryUtil*100, gpu.memoryTotal))\n",
        "printm() "
      ],
      "execution_count": 4,
      "outputs": [
        {
          "output_type": "stream",
          "text": [
            "Collecting gputil\n",
            "  Downloading https://files.pythonhosted.org/packages/ed/0e/5c61eedde9f6c87713e89d794f01e378cfd9565847d4576fa627d758c554/GPUtil-1.4.0.tar.gz\n",
            "Building wheels for collected packages: gputil\n",
            "  Building wheel for gputil (setup.py) ... \u001b[?25l\u001b[?25hdone\n",
            "  Created wheel for gputil: filename=GPUtil-1.4.0-cp36-none-any.whl size=7410 sha256=c0b1a8b35487d9e77e63e2e056d233e0c231eb1418555b6cb72670fcdc70f215\n",
            "  Stored in directory: /root/.cache/pip/wheels/3d/77/07/80562de4bb0786e5ea186911a2c831fdd0018bda69beab71fd\n",
            "Successfully built gputil\n",
            "Installing collected packages: gputil\n",
            "Successfully installed gputil-1.4.0\n",
            "Requirement already satisfied: psutil in /usr/local/lib/python3.6/dist-packages (5.4.8)\n",
            "Requirement already satisfied: humanize in /usr/local/lib/python3.6/dist-packages (0.5.1)\n",
            "Gen RAM Free: 12.5 GB  | Proc size: 500.6 MB\n",
            "GPU RAM Free: 14968MB | Used: 111MB | Util   1% | Total 15079MB\n"
          ],
          "name": "stdout"
        }
      ]
    },
    {
      "cell_type": "code",
      "metadata": {
        "colab_type": "code",
        "id": "YzS0iDgAEuE3",
        "colab": {}
      },
      "source": [
        "#!kill -9 -1"
      ],
      "execution_count": 0,
      "outputs": []
    },
    {
      "cell_type": "markdown",
      "metadata": {
        "colab_type": "text",
        "id": "nGFnbrKgDKgK"
      },
      "source": [
        "## Train your Unet with membrane data\n",
        "membrane data is in folder membrane/, it is a binary classification task.\n",
        "\n",
        "The input shape of image and mask are the same :(batch_size,rows,cols,channel = 1)"
      ]
    },
    {
      "cell_type": "markdown",
      "metadata": {
        "colab_type": "text",
        "id": "5asrqCwLDKgM"
      },
      "source": [
        "### Train with data generator"
      ]
    },
    {
      "cell_type": "code",
      "metadata": {
        "colab_type": "code",
        "id": "24oyvhn4F3ZP",
        "colab": {
          "base_uri": "https://localhost:8080/",
          "height": 34
        },
        "outputId": "11ef694f-74b3-4c21-a549-8b1645c1ccac"
      },
      "source": [
        "import numpy as np \n",
        "import sys\n",
        "from sklearn.model_selection import train_test_split\n",
        "import matplotlib.image as mpimg\n",
        "from keras.preprocessing.image import img_to_array\n",
        "import os\n",
        "import skimage.io as io\n",
        "import skimage.transform as trans\n",
        "import numpy as np\n",
        "from keras.models import *\n",
        "from keras.layers import *\n",
        "from keras.optimizers import *\n",
        "from scipy.ndimage import rotate\n",
        "from keras.callbacks import ModelCheckpoint, LearningRateScheduler\n",
        "from keras import backend as keras"
      ],
      "execution_count": 5,
      "outputs": [
        {
          "output_type": "stream",
          "text": [
            "Using TensorFlow backend.\n"
          ],
          "name": "stderr"
        }
      ]
    },
    {
      "cell_type": "markdown",
      "metadata": {
        "id": "WwQTkzWC86AS",
        "colab_type": "text"
      },
      "source": [
        "**Preprocessing**"
      ]
    },
    {
      "cell_type": "code",
      "metadata": {
        "id": "hsqlrCrM84pB",
        "colab_type": "code",
        "colab": {}
      },
      "source": [
        "def data_load(directory_name): \n",
        "    filenames = os.listdir(directory_name)\n",
        "    imgs = []\n",
        "    for i, fileNb in enumerate(filenames):\n",
        "        full_name = directory_name+fileNb\n",
        "        img=mpimg.imread(full_name)\n",
        "        imgr = img_to_array(img)\n",
        "        imgs.append(imgr)\n",
        "        sys.stdout.write(\"\\rImage {}/{} is being loaded\".format(i+1,len(filenames)))\n",
        "        sys.stdout.flush()    \n",
        "    return np.asarray(imgs)\n",
        "\n",
        "def rot(image, xy, angle):\n",
        "    im_rot = rotate(image,angle, reshape=False) \n",
        "    org_center = (np.array(image.shape[:2][::-1])-1)/2.\n",
        "    rot_center = (np.array(im_rot.shape[:2][::-1])-1)/2.\n",
        "    org = xy-org_center\n",
        "    a = np.deg2rad(angle)\n",
        "    new = np.array([org[0]*np.cos(a) + org[1]*np.sin(a),\n",
        "            -org[0]*np.sin(a) + org[1]*np.cos(a) ])\n",
        "    return im_rot\n",
        "\n",
        "def image_generator(imgs, labels, new_shape, patch_size, batch_size = 1, upsample=False):\n",
        "    np.random.seed(0)\n",
        "\n",
        "    width_img, height_img, _ = imgs[0].shape\n",
        "    \n",
        "    padding = new_shape//2\n",
        "    paddedImages = []\n",
        "    for i in imgs:\n",
        "        paddedImages.append(np.lib.pad(i, ((padding,padding),(padding,padding),(0,0)), 'reflect'))\n",
        "        \n",
        "    while True:\n",
        "        batch_input = []\n",
        "        batch_output = [] \n",
        "        \n",
        "        ind = np.random.randint(0, len(imgs))  \n",
        "        img = paddedImages[ind]\n",
        "        gt  = labels[ind]\n",
        "        \n",
        "        angls = [0, 360, 15]\n",
        "        zooms = [1., 0.85, 0.8, 0.75, 0.8, 0.85,\n",
        "                 1., 0.85, 0.8, 0.75, 0.8, 0.85,\n",
        "                 1., 0.85, 0.8, 0.75, 0.8, 0.85,\n",
        "                 1., 0.85, 0.8, 0.75, 0.8, 0.85]\n",
        " \n",
        "        for angle in range(len(angls)):\n",
        "            img = rot(img, np.array([width_img+2*padding, height_img+2*padding]), angls[angle])\n",
        "            gt = rot(gt, np.array([width_img, height_img]), angls[angle]) \n",
        "\n",
        "        background_count = 0\n",
        "        road_count = 0\n",
        "        while len(batch_input) < batch_size:\n",
        "            x = np.empty((new_shape, new_shape, 3))\n",
        "            y = np.empty((new_shape, new_shape, 3))\n",
        "            \n",
        "            boundary = int((width_img - width_img / np.sqrt(2)) / 2)\n",
        "\n",
        "            center_x = np.random.randint(patch_size//2 + boundary, width_img-boundary-patch_size//2)\n",
        "            center_y = np.random.randint(patch_size//2 + boundary, height_img-boundary-patch_size//2)\n",
        "            \n",
        "            x = img[center_x - patch_size//2:center_x + patch_size//2 + 2 * padding,\n",
        "                    center_y - patch_size//2:center_y + patch_size//2 + 2 * padding]\n",
        "            y =  gt[center_x - patch_size//2 : center_x + patch_size//2,\n",
        "                    center_y - patch_size//2 : center_y + patch_size//2]\n",
        "            \n",
        "            # vertical\n",
        "            if(np.random.randint(0, 2)):\n",
        "                x = np.flipud(x)\n",
        "            \n",
        "            # horizontal\n",
        "            if(np.random.randint(0, 2)):\n",
        "                x = np.fliplr(x)\n",
        "            \n",
        "            label = [0., 1.] if (np.array([np.mean(y)]) >  0.25) else [1., 0.]\n",
        "            \n",
        "            # makes sure we have an even distribution of road and non road if we oversample\n",
        "            if not upsample:\n",
        "                batch_input.append(x)\n",
        "                batch_output.append(label)\n",
        "            elif label == [1.,0.]: # case background\n",
        "                background_count += 1\n",
        "                if background_count != batch_size // 2:\n",
        "                    batch_input.append(x)\n",
        "                    batch_output.append(label)\n",
        "            elif label == [0.,1.]: # case road\n",
        "                road_count += 1\n",
        "                if road_count != batch_size // 2:\n",
        "                    batch_input.append(x)\n",
        "                    batch_output.append(label)\n",
        "                \n",
        "        batch_x = np.array(batch_input)\n",
        "        batch_y = np.array(batch_output)\n",
        "\n",
        "\n",
        "        yield(batch_x, batch_y) \n",
        "\n",
        "# Reshaping images to 256\n",
        "def reshape(imgs, input_shape, target_size = (256,256)):\n",
        "    out=np.zeros(input_shape)\n",
        "    A=0\n",
        "    for i in imgs:\n",
        "        img = i/ 255\n",
        "        img = trans.resize(img,target_size)\n",
        "        img = np.reshape(img,(1,)+img.shape)\n",
        "        out[A, :,:,:] = img\n",
        "        A += 1\n",
        "    return out"
      ],
      "execution_count": 0,
      "outputs": []
    },
    {
      "cell_type": "markdown",
      "metadata": {
        "id": "VdfWXVb29dvS",
        "colab_type": "text"
      },
      "source": [
        "**Loading the data**"
      ]
    },
    {
      "cell_type": "code",
      "metadata": {
        "colab_type": "code",
        "id": "aNGfqPnIDKgM",
        "outputId": "c7a5eafc-4861-4f0f-8c2b-f37d4a3dfc52",
        "colab": {
          "base_uri": "https://localhost:8080/",
          "height": 34
        }
      },
      "source": [
        "imgs = data_load(root_path+'Data/training/images/')\n",
        "gts = data_load(root_path+'Data/training/groundtruth/')\n",
        "\n",
        "imgs2 = reshape(imgs, input_shape = (100,256,256,3))\n",
        "gts2  = reshape(gts, input_shape = (100,256,256,3))\n",
        "\n",
        "TEST_SIZE = 0.2\n",
        "Xtrain, Xtest, gt_train, gt_test = train_test_split(imgs2, gts2, test_size=TEST_SIZE, random_state=1)\n"
      ],
      "execution_count": 7,
      "outputs": [
        {
          "output_type": "stream",
          "text": [
            "Image 100/100 is being loaded"
          ],
          "name": "stdout"
        }
      ]
    },
    {
      "cell_type": "markdown",
      "metadata": {
        "id": "GmbZpYJM9pRF",
        "colab_type": "text"
      },
      "source": [
        "**Image generators**"
      ]
    },
    {
      "cell_type": "code",
      "metadata": {
        "id": "bjXqqRO7Lm90",
        "colab_type": "code",
        "colab": {}
      },
      "source": [
        "train_generator      = image_generator(Xtrain, gt_train, 64, 32)\n",
        "validation_generator = image_generator(Xtest, gt_test, 64, 32)"
      ],
      "execution_count": 0,
      "outputs": []
    },
    {
      "cell_type": "markdown",
      "metadata": {
        "id": "JvscS2hG9wAj",
        "colab_type": "text"
      },
      "source": [
        "**Defining and training the model**"
      ]
    },
    {
      "cell_type": "code",
      "metadata": {
        "colab_type": "code",
        "id": "w9u9p9cRDKgT",
        "colab": {}
      },
      "source": [
        "def uneti(input_size, pretrained_weights=None):\n",
        "    inputs = Input(shape=input_size)\n",
        "\n",
        "    conv1 = Conv2D(64, 3, activation = 'relu', padding = 'same', kernel_initializer = 'he_normal')(inputs)\n",
        "    conv1 = Conv2D(64, 3, activation = 'relu', padding = 'same', kernel_initializer = 'he_normal')(conv1)\n",
        "    pool1 = MaxPooling2D(pool_size=(2, 2))(conv1)\n",
        "\n",
        "    conv2 = Conv2D(128, 3, activation = 'relu', padding = 'same', kernel_initializer = 'he_normal')(pool1)\n",
        "    conv2 = Conv2D(128, 3, activation = 'relu', padding = 'same', kernel_initializer = 'he_normal')(conv2)\n",
        "    pool2 = MaxPooling2D(pool_size=(2, 2))(conv2)\n",
        "\n",
        "    conv3 = Conv2D(256, 3, activation = 'relu', padding = 'same', kernel_initializer = 'he_normal')(pool2)\n",
        "    conv3 = Conv2D(256, 3, activation = 'relu', padding = 'same', kernel_initializer = 'he_normal')(conv3)\n",
        "    pool3 = MaxPooling2D(pool_size=(2, 2))(conv3)\n",
        "\n",
        "    conv4 = Conv2D(512, 3, activation = 'relu', padding = 'same', kernel_initializer = 'he_normal')(pool3)\n",
        "    conv4 = Conv2D(512, 3, activation = 'relu', padding = 'same', kernel_initializer = 'he_normal')(conv4)\n",
        "    drop4 = Dropout(0.5)(conv4)\n",
        "    pool4 = MaxPooling2D(pool_size=(2, 2))(drop4)\n",
        "\n",
        "    conv5 = Conv2D(1024, 3, activation = 'relu', padding = 'same', kernel_initializer = 'he_normal')(pool4)\n",
        "    conv5 = Conv2D(1024, 3, activation = 'relu', padding = 'same', kernel_initializer = 'he_normal')(conv5)\n",
        "    drop5 = Dropout(0.5)(conv5)\n",
        "\n",
        "    up6 = Conv2D(512, 2, activation = 'relu', padding = 'same', kernel_initializer = 'he_normal')(UpSampling2D(size = (2,2))(drop5))\n",
        "    merge6 = concatenate([drop4,up6], axis = 3)\n",
        "    conv6 = Conv2D(512, 3, activation = 'relu', padding = 'same', kernel_initializer = 'he_normal')(merge6)\n",
        "    conv6 = Conv2D(512, 3, activation = 'relu', padding = 'same', kernel_initializer = 'he_normal')(conv6)\n",
        "\n",
        "    up7 = Conv2D(256, 2, activation = 'relu', padding = 'same', kernel_initializer = 'he_normal')(UpSampling2D(size = (2,2))(conv6))\n",
        "    merge7 = concatenate([conv3,up7], axis = 3)\n",
        "    conv7 = Conv2D(256, 3, activation = 'relu', padding = 'same', kernel_initializer = 'he_normal')(merge7)\n",
        "    conv7 = Conv2D(256, 3, activation = 'relu', padding = 'same', kernel_initializer = 'he_normal')(conv7)\n",
        "\n",
        "    up8 = Conv2D(128, 2, activation = 'relu', padding = 'same', kernel_initializer = 'he_normal')(UpSampling2D(size = (2,2))(conv7))\n",
        "    merge8 = concatenate([conv2,up8], axis = 3)\n",
        "    conv8 = Conv2D(128, 3, activation = 'relu', padding = 'same', kernel_initializer = 'he_normal')(merge8)\n",
        "    conv8 = Conv2D(128, 3, activation = 'relu', padding = 'same', kernel_initializer = 'he_normal')(conv8)\n",
        "\n",
        "    up9 = Conv2D(64, 2, activation = 'relu', padding = 'same', kernel_initializer = 'he_normal')(UpSampling2D(size = (2,2))(conv8))\n",
        "    merge9 = concatenate([conv1,up9], axis = 3)\n",
        "    conv9 = Conv2D(64, 3, activation = 'relu', padding = 'same', kernel_initializer = 'he_normal')(merge9)\n",
        "    conv9 = Conv2D(64, 3, activation = 'relu', padding = 'same', kernel_initializer = 'he_normal')(conv9)\n",
        "    conv9 = Conv2D(2, 3, activation = 'relu', padding = 'same', kernel_initializer = 'he_normal')(conv9)\n",
        "    conv9 = Flatten()(conv9)\n",
        "    conv10 = Dense(2, activation = 'sigmoid')(conv9)\n",
        "\n",
        "    model = Model(inputs = inputs, outputs = conv10)\n",
        "\n",
        "    model.compile(optimizer = Adam(lr = 1e-4), loss = 'binary_crossentropy', metrics = ['accuracy'])\n",
        "    #model.summary()\n",
        "\n",
        "    if(pretrained_weights):\n",
        "    \tmodel.load_weights(pretrained_weights)\n",
        "\n",
        "    return model"
      ],
      "execution_count": 0,
      "outputs": []
    },
    {
      "cell_type": "code",
      "metadata": {
        "colab_type": "code",
        "id": "UFbB8DjFDKgW",
        "outputId": "c246d6d4-e9a4-45e0-93f6-3d0beb7c362c",
        "colab": {
          "base_uri": "https://localhost:8080/",
          "height": 1000
        }
      },
      "source": [
        "model = uneti(input_size = (96,96,3), pretrained_weights=None)"
      ],
      "execution_count": 0,
      "outputs": [
        {
          "output_type": "stream",
          "text": [
            "Model: \"model_2\"\n",
            "__________________________________________________________________________________________________\n",
            "Layer (type)                    Output Shape         Param #     Connected to                     \n",
            "==================================================================================================\n",
            "input_2 (InputLayer)            (None, 96, 96, 3)    0                                            \n",
            "__________________________________________________________________________________________________\n",
            "conv2d_24 (Conv2D)              (None, 96, 96, 64)   1792        input_2[0][0]                    \n",
            "__________________________________________________________________________________________________\n",
            "conv2d_25 (Conv2D)              (None, 96, 96, 64)   36928       conv2d_24[0][0]                  \n",
            "__________________________________________________________________________________________________\n",
            "max_pooling2d_5 (MaxPooling2D)  (None, 48, 48, 64)   0           conv2d_25[0][0]                  \n",
            "__________________________________________________________________________________________________\n",
            "conv2d_26 (Conv2D)              (None, 48, 48, 128)  73856       max_pooling2d_5[0][0]            \n",
            "__________________________________________________________________________________________________\n",
            "conv2d_27 (Conv2D)              (None, 48, 48, 128)  147584      conv2d_26[0][0]                  \n",
            "__________________________________________________________________________________________________\n",
            "max_pooling2d_6 (MaxPooling2D)  (None, 24, 24, 128)  0           conv2d_27[0][0]                  \n",
            "__________________________________________________________________________________________________\n",
            "conv2d_28 (Conv2D)              (None, 24, 24, 256)  295168      max_pooling2d_6[0][0]            \n",
            "__________________________________________________________________________________________________\n",
            "conv2d_29 (Conv2D)              (None, 24, 24, 256)  590080      conv2d_28[0][0]                  \n",
            "__________________________________________________________________________________________________\n",
            "max_pooling2d_7 (MaxPooling2D)  (None, 12, 12, 256)  0           conv2d_29[0][0]                  \n",
            "__________________________________________________________________________________________________\n",
            "conv2d_30 (Conv2D)              (None, 12, 12, 512)  1180160     max_pooling2d_7[0][0]            \n",
            "__________________________________________________________________________________________________\n",
            "conv2d_31 (Conv2D)              (None, 12, 12, 512)  2359808     conv2d_30[0][0]                  \n",
            "__________________________________________________________________________________________________\n",
            "dropout_3 (Dropout)             (None, 12, 12, 512)  0           conv2d_31[0][0]                  \n",
            "__________________________________________________________________________________________________\n",
            "max_pooling2d_8 (MaxPooling2D)  (None, 6, 6, 512)    0           dropout_3[0][0]                  \n",
            "__________________________________________________________________________________________________\n",
            "conv2d_32 (Conv2D)              (None, 6, 6, 1024)   4719616     max_pooling2d_8[0][0]            \n",
            "__________________________________________________________________________________________________\n",
            "conv2d_33 (Conv2D)              (None, 6, 6, 1024)   9438208     conv2d_32[0][0]                  \n",
            "__________________________________________________________________________________________________\n",
            "dropout_4 (Dropout)             (None, 6, 6, 1024)   0           conv2d_33[0][0]                  \n",
            "__________________________________________________________________________________________________\n",
            "up_sampling2d_5 (UpSampling2D)  (None, 12, 12, 1024) 0           dropout_4[0][0]                  \n",
            "__________________________________________________________________________________________________\n",
            "conv2d_34 (Conv2D)              (None, 12, 12, 512)  2097664     up_sampling2d_5[0][0]            \n",
            "__________________________________________________________________________________________________\n",
            "concatenate_5 (Concatenate)     (None, 12, 12, 1024) 0           dropout_3[0][0]                  \n",
            "                                                                 conv2d_34[0][0]                  \n",
            "__________________________________________________________________________________________________\n",
            "conv2d_35 (Conv2D)              (None, 12, 12, 512)  4719104     concatenate_5[0][0]              \n",
            "__________________________________________________________________________________________________\n",
            "conv2d_36 (Conv2D)              (None, 12, 12, 512)  2359808     conv2d_35[0][0]                  \n",
            "__________________________________________________________________________________________________\n",
            "up_sampling2d_6 (UpSampling2D)  (None, 24, 24, 512)  0           conv2d_36[0][0]                  \n",
            "__________________________________________________________________________________________________\n",
            "conv2d_37 (Conv2D)              (None, 24, 24, 256)  524544      up_sampling2d_6[0][0]            \n",
            "__________________________________________________________________________________________________\n",
            "concatenate_6 (Concatenate)     (None, 24, 24, 512)  0           conv2d_29[0][0]                  \n",
            "                                                                 conv2d_37[0][0]                  \n",
            "__________________________________________________________________________________________________\n",
            "conv2d_38 (Conv2D)              (None, 24, 24, 256)  1179904     concatenate_6[0][0]              \n",
            "__________________________________________________________________________________________________\n",
            "conv2d_39 (Conv2D)              (None, 24, 24, 256)  590080      conv2d_38[0][0]                  \n",
            "__________________________________________________________________________________________________\n",
            "up_sampling2d_7 (UpSampling2D)  (None, 48, 48, 256)  0           conv2d_39[0][0]                  \n",
            "__________________________________________________________________________________________________\n",
            "conv2d_40 (Conv2D)              (None, 48, 48, 128)  131200      up_sampling2d_7[0][0]            \n",
            "__________________________________________________________________________________________________\n",
            "concatenate_7 (Concatenate)     (None, 48, 48, 256)  0           conv2d_27[0][0]                  \n",
            "                                                                 conv2d_40[0][0]                  \n",
            "__________________________________________________________________________________________________\n",
            "conv2d_41 (Conv2D)              (None, 48, 48, 128)  295040      concatenate_7[0][0]              \n",
            "__________________________________________________________________________________________________\n",
            "conv2d_42 (Conv2D)              (None, 48, 48, 128)  147584      conv2d_41[0][0]                  \n",
            "__________________________________________________________________________________________________\n",
            "up_sampling2d_8 (UpSampling2D)  (None, 96, 96, 128)  0           conv2d_42[0][0]                  \n",
            "__________________________________________________________________________________________________\n",
            "conv2d_43 (Conv2D)              (None, 96, 96, 64)   32832       up_sampling2d_8[0][0]            \n",
            "__________________________________________________________________________________________________\n",
            "concatenate_8 (Concatenate)     (None, 96, 96, 128)  0           conv2d_25[0][0]                  \n",
            "                                                                 conv2d_43[0][0]                  \n",
            "__________________________________________________________________________________________________\n",
            "conv2d_44 (Conv2D)              (None, 96, 96, 64)   73792       concatenate_8[0][0]              \n",
            "__________________________________________________________________________________________________\n",
            "conv2d_45 (Conv2D)              (None, 96, 96, 64)   36928       conv2d_44[0][0]                  \n",
            "__________________________________________________________________________________________________\n",
            "conv2d_46 (Conv2D)              (None, 96, 96, 2)    1154        conv2d_45[0][0]                  \n",
            "__________________________________________________________________________________________________\n",
            "flatten_2 (Flatten)             (None, 18432)        0           conv2d_46[0][0]                  \n",
            "__________________________________________________________________________________________________\n",
            "dense_2 (Dense)                 (None, 2)            36866       flatten_2[0][0]                  \n",
            "==================================================================================================\n",
            "Total params: 31,069,700\n",
            "Trainable params: 31,069,700\n",
            "Non-trainable params: 0\n",
            "__________________________________________________________________________________________________\n"
          ],
          "name": "stdout"
        }
      ]
    },
    {
      "cell_type": "code",
      "metadata": {
        "id": "sUvxoTG6RN2_",
        "colab_type": "code",
        "outputId": "9d387db7-ce11-4f37-e9b9-536dd2693baf",
        "colab": {
          "base_uri": "https://localhost:8080/",
          "height": 89
        }
      },
      "source": [
        "model.fit_generator(generator=train_generator,\n",
        "                    steps_per_epoch=2000,\n",
        "                    epochs=1, \n",
        "                    verbose=1,\n",
        "                    validation_data = validation_generator,\n",
        "                    validation_steps = 2000\n",
        "                    )"
      ],
      "execution_count": 0,
      "outputs": [
        {
          "output_type": "stream",
          "text": [
            "Epoch 1/1\n",
            "2000/2000 [==============================] - 897s 449ms/step - loss: 1.0960e-07 - acc: 1.0000 - val_loss: 1.0960e-07 - val_acc: 1.0000\n"
          ],
          "name": "stdout"
        },
        {
          "output_type": "execute_result",
          "data": {
            "text/plain": [
              "<keras.callbacks.History at 0x7faa30eb4630>"
            ]
          },
          "metadata": {
            "tags": []
          },
          "execution_count": 96
        }
      ]
    },
    {
      "cell_type": "markdown",
      "metadata": {
        "id": "y7kZ2Cnr-p0g",
        "colab_type": "text"
      },
      "source": [
        "**Saving the model**"
      ]
    },
    {
      "cell_type": "code",
      "metadata": {
        "id": "X4Yf6kIS-ork",
        "colab_type": "code",
        "colab": {}
      },
      "source": [
        "# serialize model to JSON\n",
        "OUTPUT_FILENAME = \"unet_windowed\"\n",
        "model_json = model.to_json()\n",
        "with open(OUTPUT_FILENAME + \".json\", \"w\") as json_file:\n",
        "    json_file.write(model_json)\n",
        "\n",
        "# serialize weights to HDF5\n",
        "model.save_weights(OUTPUT_FILENAME + \".h5\")\n",
        "print(\"Saved model to disk\")"
      ],
      "execution_count": 0,
      "outputs": []
    },
    {
      "cell_type": "markdown",
      "metadata": {
        "id": "25ywsQ_J-vXH",
        "colab_type": "text"
      },
      "source": [
        "**Load the model**"
      ]
    },
    {
      "cell_type": "code",
      "metadata": {
        "id": "l6pwDCES-u3N",
        "colab_type": "code",
        "colab": {
          "base_uri": "https://localhost:8080/",
          "height": 332
        },
        "outputId": "2efac1cf-4811-482c-a7f6-3bb3f0fdfb37"
      },
      "source": [
        "from keras.models import model_from_json\n",
        "json_file = open(root_path+\"unet_windowed.json\", 'r')\n",
        "loaded_model_json = json_file.read()\n",
        "json_file.close()\n",
        "model = model_from_json(loaded_model_json)"
      ],
      "execution_count": 8,
      "outputs": [
        {
          "output_type": "stream",
          "text": [
            "WARNING:tensorflow:From /usr/local/lib/python3.6/dist-packages/keras/backend/tensorflow_backend.py:541: The name tf.placeholder is deprecated. Please use tf.compat.v1.placeholder instead.\n",
            "\n",
            "WARNING:tensorflow:From /usr/local/lib/python3.6/dist-packages/keras/backend/tensorflow_backend.py:4479: The name tf.truncated_normal is deprecated. Please use tf.random.truncated_normal instead.\n",
            "\n",
            "WARNING:tensorflow:From /usr/local/lib/python3.6/dist-packages/keras/backend/tensorflow_backend.py:4267: The name tf.nn.max_pool is deprecated. Please use tf.nn.max_pool2d instead.\n",
            "\n",
            "WARNING:tensorflow:From /usr/local/lib/python3.6/dist-packages/keras/backend/tensorflow_backend.py:66: The name tf.get_default_graph is deprecated. Please use tf.compat.v1.get_default_graph instead.\n",
            "\n",
            "WARNING:tensorflow:From /usr/local/lib/python3.6/dist-packages/keras/backend/tensorflow_backend.py:148: The name tf.placeholder_with_default is deprecated. Please use tf.compat.v1.placeholder_with_default instead.\n",
            "\n",
            "WARNING:tensorflow:From /usr/local/lib/python3.6/dist-packages/keras/backend/tensorflow_backend.py:3733: calling dropout (from tensorflow.python.ops.nn_ops) with keep_prob is deprecated and will be removed in a future version.\n",
            "Instructions for updating:\n",
            "Please use `rate` instead of `keep_prob`. Rate should be set to `rate = 1 - keep_prob`.\n",
            "WARNING:tensorflow:From /usr/local/lib/python3.6/dist-packages/keras/backend/tensorflow_backend.py:2239: The name tf.image.resize_nearest_neighbor is deprecated. Please use tf.compat.v1.image.resize_nearest_neighbor instead.\n",
            "\n",
            "WARNING:tensorflow:From /usr/local/lib/python3.6/dist-packages/keras/backend/tensorflow_backend.py:4432: The name tf.random_uniform is deprecated. Please use tf.random.uniform instead.\n",
            "\n"
          ],
          "name": "stdout"
        }
      ]
    },
    {
      "cell_type": "markdown",
      "metadata": {
        "id": "sOCT6FkP97Sb",
        "colab_type": "text"
      },
      "source": [
        "**Predictions : Useful functions**"
      ]
    },
    {
      "cell_type": "code",
      "metadata": {
        "id": "4WnpPTdLXwtT",
        "colab_type": "code",
        "colab": {}
      },
      "source": [
        "def create_window(im, window_size, patch_size=32, batch_size=1):\n",
        "    print(\"image\", im.shape)\n",
        "    list_patches = []\n",
        "    is_2d = len(im.shape) < 3\n",
        "    imgwidth = im.shape[0]\n",
        "    imgheight = im.shape[1]\n",
        "    padSize = (window_size-patch_size)//2\n",
        "    is_2d = len(im.shape) < 3\n",
        "    paddedImages = []\n",
        "    for i in im:\n",
        "        if is_2d:\n",
        "          paddedImages.append(np.lib.pad(i,((padSize,padSize),(padSize,padSize)),'reflect'))\n",
        "        else:\n",
        "          paddedImages.append(np.lib.pad(i,((padSize,padSize),(padSize,padSize)),'reflect'))\n",
        "    batch_input=[]\n",
        "    while len(batch_input) < batch_size:\n",
        "            x = np.empty((window_size, window_size, 3))\n",
        "            \n",
        "            boundary = int((imgwidth - imgwidth / np.sqrt(2)) / 2)\n",
        "\n",
        "            center_x = np.random.randint(patch_size//2 + boundary, imgwidth-boundary-patch_size//2)\n",
        "            center_y = np.random.randint(patch_size//2 + boundary, imgheight-boundary-patch_size//2)\n",
        "\n",
        "            x = im[center_x - patch_size//2:center_x + patch_size//2 + 2 * padSize,\n",
        "                    center_y - patch_size//2:center_y + patch_size//2 + 2 * padSize]\n",
        "            batch_input.append(x)\n",
        "    \n",
        "    return np.array(batch_input)\n",
        "      #padded = np.lib.pad(i, ((padSize,padSize),(padSize,padSize),(0,0)), 'reflect')\n",
        "\n",
        "    #for i in range(padSize, imgheight + padSize, 32):\n",
        "    #    for j in range(padSize,imgwidth + padSize, 32):\n",
        "    #        if is_2d:\n",
        "    #            im_patch = padded[j-padSize:j+32+padSize, i-padSize:i+32+padSize]\n",
        "    #        else:\n",
        "    #            im_patch = padded[j-padSize:j+32+padSize, i-padSize:i+32+padSize, :]\n",
        "    #        list_patches.append(im_patch)\n",
        "    print(paddedImages[0].shape)\n",
        "    return paddedImages\n",
        "\n",
        "def label_to_img(imgwidth, imgheight, w, h, labels):\n",
        "    array_labels = np.zeros([imgwidth, imgheight])\n",
        "    print('array', array_labels.shape)\n",
        "    idx = 0\n",
        "    print(\"labels\", labels.shape)\n",
        "    for i in range(0,imgheight,h):\n",
        "        print('i', i)\n",
        "        for j in range(0,imgwidth,w):\n",
        "          print('j',j)\n",
        "          if labels[idx][0] > 0.5: \n",
        "              l = 1\n",
        "          else:\n",
        "              l = 0\n",
        "          array_labels[j:j+w, i:i+h] = l\n",
        "          idx = idx + 1\n",
        "          print(\"idx\", idx)\n",
        "    return array_labels\n",
        "\n",
        "# Get prediction for given input image \n",
        "def get_prediction(img, model, window_size):\n",
        "    data = np.asarray(test_generator(img, window_size))\n",
        "    print(\"data\", data.shape)\n",
        "    output_prediction = model.predict(data)\n",
        "    print(\"output_prediction\", output_prediction.shape)\n",
        "    img_prediction = label_to_img(data.shape[0], data.shape[1], 32, 32, output_prediction)\n",
        "    return img_prediction\n",
        "\n",
        "\n",
        "# Get a concatenation of the prediction and image for given input file\n",
        "def get_prediction_with_mask(img, model, window_size):\n",
        "    img_prediction = get_prediction(img, model, window_size)\n",
        "    cimg = concatenate_images(img, img_prediction)\n",
        "    return cimg\n",
        "\n",
        "\n",
        "# Get prediction overlaid on the original image for given input file\n",
        "def get_prediction_with_overlay(img, model, window_size):\n",
        "    img_prediction = get_prediction(img,model, window_size)\n",
        "    oimg = make_img_overlay(img, img_prediction)\n",
        "    return oimg\n",
        "\n",
        "def generate_images(model, imgs, gt_imgs):\n",
        "        prediction_training_dir = root_path+\"predictions_training_unet/\"\n",
        "        #if not os.path.isdir(prediction_training_dir):\n",
        "        #    os.mkdir(prediction_training_dir)\n",
        "        \n",
        "        for i in range(1, 100):\n",
        "          pimg = get_prediction_with_mask(imgs[i-1], model, WINDOW_SIZE)\n",
        "          Image.fromarray(pimg).save(prediction_training_dir + \"prediction_\" + str(i) + \".png\")\n",
        "          oimg = get_prediction_with_overlay(imgs[i-1], model, WINDOW_SIZE)\n",
        "          oimg.save(prediction_training_dir + \"overlay_\" + str(i) + \".png\")\n",
        "        \n",
        "        checkImageTrainSet(model, imgs, gt_imgs, WINDOW_SIZE)     \n",
        "\n",
        "def img_float_to_uint8(img):\n",
        "    rimg = img - np.min(img)\n",
        "    rimg = (rimg / np.max(rimg) * 255).round().astype(np.uint8)\n",
        "    return rimg\n",
        "\n",
        "def load_image(infilename):\n",
        "    data = mpimg.imread(infilename)\n",
        "    return data"
      ],
      "execution_count": 0,
      "outputs": []
    },
    {
      "cell_type": "code",
      "metadata": {
        "id": "lpfLLbIg8fWu",
        "colab_type": "code",
        "colab": {}
      },
      "source": [
        "def test_generator(imgs, new_shape, batch_size = 1):\n",
        "\n",
        "    width_img, height_img = imgs[0].shape\n",
        "    \n",
        "    padding = new_shape//2\n",
        "    paddedImages = []\n",
        "    for i in imgs:\n",
        "        paddedImages.append(np.lib.pad(i, ((padding,padding),(padding,padding)), 'reflect'))\n",
        "        \n",
        "\n",
        "    return paddedImages"
      ],
      "execution_count": 0,
      "outputs": []
    },
    {
      "cell_type": "code",
      "metadata": {
        "id": "QHI1jZhOXQJG",
        "colab_type": "code",
        "colab": {}
      },
      "source": [
        "WINDOW_SIZE = 64\n",
        "\n"
      ],
      "execution_count": 0,
      "outputs": []
    },
    {
      "cell_type": "markdown",
      "metadata": {
        "id": "40O6cyLl-Xea",
        "colab_type": "text"
      },
      "source": [
        "**Predictions**"
      ]
    },
    {
      "cell_type": "code",
      "metadata": {
        "id": "x8gZISzjdMxm",
        "colab_type": "code",
        "colab": {}
      },
      "source": [
        "test = imgs\n",
        "test_reshaped = reshape(test, input_shape=(100,256,256,3))"
      ],
      "execution_count": 0,
      "outputs": []
    },
    {
      "cell_type": "code",
      "metadata": {
        "id": "TP4xjp9UePfV",
        "colab_type": "code",
        "outputId": "70afc42a-c0ca-4b0d-9b34-b0f29a568e59",
        "colab": {
          "base_uri": "https://localhost:8080/",
          "height": 419
        }
      },
      "source": [
        "predictions=[]\n",
        "for K in test:\n",
        "  prediction = get_prediction(K, model, 96)\n",
        "  predictions.append(prediction)\n",
        "\n",
        "generate_images(model, test_reshaped, predictions)"
      ],
      "execution_count": 27,
      "outputs": [
        {
          "output_type": "stream",
          "text": [
            "data (400, 496, 99)\n"
          ],
          "name": "stdout"
        },
        {
          "output_type": "error",
          "ename": "ValueError",
          "evalue": "ignored",
          "traceback": [
            "\u001b[0;31m---------------------------------------------------------------------------\u001b[0m",
            "\u001b[0;31mValueError\u001b[0m                                Traceback (most recent call last)",
            "\u001b[0;32m<ipython-input-27-3f5147e310cc>\u001b[0m in \u001b[0;36m<module>\u001b[0;34m()\u001b[0m\n\u001b[1;32m      1\u001b[0m \u001b[0mpredictions\u001b[0m\u001b[0;34m=\u001b[0m\u001b[0;34m[\u001b[0m\u001b[0;34m]\u001b[0m\u001b[0;34m\u001b[0m\u001b[0;34m\u001b[0m\u001b[0m\n\u001b[1;32m      2\u001b[0m \u001b[0;32mfor\u001b[0m \u001b[0mK\u001b[0m \u001b[0;32min\u001b[0m \u001b[0mtest\u001b[0m\u001b[0;34m:\u001b[0m\u001b[0;34m\u001b[0m\u001b[0;34m\u001b[0m\u001b[0m\n\u001b[0;32m----> 3\u001b[0;31m   \u001b[0mprediction\u001b[0m \u001b[0;34m=\u001b[0m \u001b[0mget_prediction\u001b[0m\u001b[0;34m(\u001b[0m\u001b[0mK\u001b[0m\u001b[0;34m,\u001b[0m \u001b[0mmodel\u001b[0m\u001b[0;34m,\u001b[0m \u001b[0;36m96\u001b[0m\u001b[0;34m)\u001b[0m\u001b[0;34m\u001b[0m\u001b[0;34m\u001b[0m\u001b[0m\n\u001b[0m\u001b[1;32m      4\u001b[0m   \u001b[0mpredictions\u001b[0m\u001b[0;34m.\u001b[0m\u001b[0mappend\u001b[0m\u001b[0;34m(\u001b[0m\u001b[0mprediction\u001b[0m\u001b[0;34m)\u001b[0m\u001b[0;34m\u001b[0m\u001b[0;34m\u001b[0m\u001b[0m\n\u001b[1;32m      5\u001b[0m \u001b[0;34m\u001b[0m\u001b[0m\n",
            "\u001b[0;32m<ipython-input-24-825c7a899f6a>\u001b[0m in \u001b[0;36mget_prediction\u001b[0;34m(img, model, window_size)\u001b[0m\n\u001b[1;32m     61\u001b[0m     \u001b[0mdata\u001b[0m \u001b[0;34m=\u001b[0m \u001b[0mnp\u001b[0m\u001b[0;34m.\u001b[0m\u001b[0masarray\u001b[0m\u001b[0;34m(\u001b[0m\u001b[0mtest_generator\u001b[0m\u001b[0;34m(\u001b[0m\u001b[0mimg\u001b[0m\u001b[0;34m,\u001b[0m \u001b[0mwindow_size\u001b[0m\u001b[0;34m)\u001b[0m\u001b[0;34m)\u001b[0m\u001b[0;34m\u001b[0m\u001b[0;34m\u001b[0m\u001b[0m\n\u001b[1;32m     62\u001b[0m     \u001b[0mprint\u001b[0m\u001b[0;34m(\u001b[0m\u001b[0;34m\"data\"\u001b[0m\u001b[0;34m,\u001b[0m \u001b[0mdata\u001b[0m\u001b[0;34m.\u001b[0m\u001b[0mshape\u001b[0m\u001b[0;34m)\u001b[0m\u001b[0;34m\u001b[0m\u001b[0;34m\u001b[0m\u001b[0m\n\u001b[0;32m---> 63\u001b[0;31m     \u001b[0moutput_prediction\u001b[0m \u001b[0;34m=\u001b[0m \u001b[0mmodel\u001b[0m\u001b[0;34m.\u001b[0m\u001b[0mpredict\u001b[0m\u001b[0;34m(\u001b[0m\u001b[0mdata\u001b[0m\u001b[0;34m)\u001b[0m\u001b[0;34m\u001b[0m\u001b[0;34m\u001b[0m\u001b[0m\n\u001b[0m\u001b[1;32m     64\u001b[0m     \u001b[0mprint\u001b[0m\u001b[0;34m(\u001b[0m\u001b[0;34m\"output_prediction\"\u001b[0m\u001b[0;34m,\u001b[0m \u001b[0moutput_prediction\u001b[0m\u001b[0;34m.\u001b[0m\u001b[0mshape\u001b[0m\u001b[0;34m)\u001b[0m\u001b[0;34m\u001b[0m\u001b[0;34m\u001b[0m\u001b[0m\n\u001b[1;32m     65\u001b[0m     \u001b[0mimg_prediction\u001b[0m \u001b[0;34m=\u001b[0m \u001b[0mlabel_to_img\u001b[0m\u001b[0;34m(\u001b[0m\u001b[0mdata\u001b[0m\u001b[0;34m.\u001b[0m\u001b[0mshape\u001b[0m\u001b[0;34m[\u001b[0m\u001b[0;36m0\u001b[0m\u001b[0;34m]\u001b[0m\u001b[0;34m,\u001b[0m \u001b[0mdata\u001b[0m\u001b[0;34m.\u001b[0m\u001b[0mshape\u001b[0m\u001b[0;34m[\u001b[0m\u001b[0;36m1\u001b[0m\u001b[0;34m]\u001b[0m\u001b[0;34m,\u001b[0m \u001b[0;36m32\u001b[0m\u001b[0;34m,\u001b[0m \u001b[0;36m32\u001b[0m\u001b[0;34m,\u001b[0m \u001b[0moutput_prediction\u001b[0m\u001b[0;34m)\u001b[0m\u001b[0;34m\u001b[0m\u001b[0;34m\u001b[0m\u001b[0m\n",
            "\u001b[0;32m/usr/local/lib/python3.6/dist-packages/keras/engine/training.py\u001b[0m in \u001b[0;36mpredict\u001b[0;34m(self, x, batch_size, verbose, steps, callbacks, max_queue_size, workers, use_multiprocessing)\u001b[0m\n\u001b[1;32m   1378\u001b[0m \u001b[0;34m\u001b[0m\u001b[0m\n\u001b[1;32m   1379\u001b[0m         \u001b[0;31m# Case 2: Symbolic tensors or Numpy array-like.\u001b[0m\u001b[0;34m\u001b[0m\u001b[0;34m\u001b[0m\u001b[0;34m\u001b[0m\u001b[0m\n\u001b[0;32m-> 1380\u001b[0;31m         \u001b[0mx\u001b[0m\u001b[0;34m,\u001b[0m \u001b[0m_\u001b[0m\u001b[0;34m,\u001b[0m \u001b[0m_\u001b[0m \u001b[0;34m=\u001b[0m \u001b[0mself\u001b[0m\u001b[0;34m.\u001b[0m\u001b[0m_standardize_user_data\u001b[0m\u001b[0;34m(\u001b[0m\u001b[0mx\u001b[0m\u001b[0;34m)\u001b[0m\u001b[0;34m\u001b[0m\u001b[0;34m\u001b[0m\u001b[0m\n\u001b[0m\u001b[1;32m   1381\u001b[0m         \u001b[0;32mif\u001b[0m \u001b[0mself\u001b[0m\u001b[0;34m.\u001b[0m\u001b[0mstateful\u001b[0m\u001b[0;34m:\u001b[0m\u001b[0;34m\u001b[0m\u001b[0;34m\u001b[0m\u001b[0m\n\u001b[1;32m   1382\u001b[0m             \u001b[0;32mif\u001b[0m \u001b[0mx\u001b[0m\u001b[0;34m[\u001b[0m\u001b[0;36m0\u001b[0m\u001b[0;34m]\u001b[0m\u001b[0;34m.\u001b[0m\u001b[0mshape\u001b[0m\u001b[0;34m[\u001b[0m\u001b[0;36m0\u001b[0m\u001b[0;34m]\u001b[0m \u001b[0;34m>\u001b[0m \u001b[0mbatch_size\u001b[0m \u001b[0;32mand\u001b[0m \u001b[0mx\u001b[0m\u001b[0;34m[\u001b[0m\u001b[0;36m0\u001b[0m\u001b[0;34m]\u001b[0m\u001b[0;34m.\u001b[0m\u001b[0mshape\u001b[0m\u001b[0;34m[\u001b[0m\u001b[0;36m0\u001b[0m\u001b[0;34m]\u001b[0m \u001b[0;34m%\u001b[0m \u001b[0mbatch_size\u001b[0m \u001b[0;34m!=\u001b[0m \u001b[0;36m0\u001b[0m\u001b[0;34m:\u001b[0m\u001b[0;34m\u001b[0m\u001b[0;34m\u001b[0m\u001b[0m\n",
            "\u001b[0;32m/usr/local/lib/python3.6/dist-packages/keras/engine/training.py\u001b[0m in \u001b[0;36m_standardize_user_data\u001b[0;34m(self, x, y, sample_weight, class_weight, check_array_lengths, batch_size)\u001b[0m\n\u001b[1;32m    755\u001b[0m             \u001b[0mfeed_input_shapes\u001b[0m\u001b[0;34m,\u001b[0m\u001b[0;34m\u001b[0m\u001b[0;34m\u001b[0m\u001b[0m\n\u001b[1;32m    756\u001b[0m             \u001b[0mcheck_batch_axis\u001b[0m\u001b[0;34m=\u001b[0m\u001b[0;32mFalse\u001b[0m\u001b[0;34m,\u001b[0m  \u001b[0;31m# Don't enforce the batch size.\u001b[0m\u001b[0;34m\u001b[0m\u001b[0;34m\u001b[0m\u001b[0m\n\u001b[0;32m--> 757\u001b[0;31m             exception_prefix='input')\n\u001b[0m\u001b[1;32m    758\u001b[0m \u001b[0;34m\u001b[0m\u001b[0m\n\u001b[1;32m    759\u001b[0m         \u001b[0;32mif\u001b[0m \u001b[0my\u001b[0m \u001b[0;32mis\u001b[0m \u001b[0;32mnot\u001b[0m \u001b[0;32mNone\u001b[0m\u001b[0;34m:\u001b[0m\u001b[0;34m\u001b[0m\u001b[0;34m\u001b[0m\u001b[0m\n",
            "\u001b[0;32m/usr/local/lib/python3.6/dist-packages/keras/engine/training_utils.py\u001b[0m in \u001b[0;36mstandardize_input_data\u001b[0;34m(data, names, shapes, check_batch_axis, exception_prefix)\u001b[0m\n\u001b[1;32m    129\u001b[0m                         \u001b[0;34m': expected '\u001b[0m \u001b[0;34m+\u001b[0m \u001b[0mnames\u001b[0m\u001b[0;34m[\u001b[0m\u001b[0mi\u001b[0m\u001b[0;34m]\u001b[0m \u001b[0;34m+\u001b[0m \u001b[0;34m' to have '\u001b[0m \u001b[0;34m+\u001b[0m\u001b[0;34m\u001b[0m\u001b[0;34m\u001b[0m\u001b[0m\n\u001b[1;32m    130\u001b[0m                         \u001b[0mstr\u001b[0m\u001b[0;34m(\u001b[0m\u001b[0mlen\u001b[0m\u001b[0;34m(\u001b[0m\u001b[0mshape\u001b[0m\u001b[0;34m)\u001b[0m\u001b[0;34m)\u001b[0m \u001b[0;34m+\u001b[0m \u001b[0;34m' dimensions, but got array '\u001b[0m\u001b[0;34m\u001b[0m\u001b[0;34m\u001b[0m\u001b[0m\n\u001b[0;32m--> 131\u001b[0;31m                         'with shape ' + str(data_shape))\n\u001b[0m\u001b[1;32m    132\u001b[0m                 \u001b[0;32mif\u001b[0m \u001b[0;32mnot\u001b[0m \u001b[0mcheck_batch_axis\u001b[0m\u001b[0;34m:\u001b[0m\u001b[0;34m\u001b[0m\u001b[0;34m\u001b[0m\u001b[0m\n\u001b[1;32m    133\u001b[0m                     \u001b[0mdata_shape\u001b[0m \u001b[0;34m=\u001b[0m \u001b[0mdata_shape\u001b[0m\u001b[0;34m[\u001b[0m\u001b[0;36m1\u001b[0m\u001b[0;34m:\u001b[0m\u001b[0;34m]\u001b[0m\u001b[0;34m\u001b[0m\u001b[0;34m\u001b[0m\u001b[0m\n",
            "\u001b[0;31mValueError\u001b[0m: Error when checking input: expected input_2 to have 4 dimensions, but got array with shape (400, 496, 99)"
          ]
        }
      ]
    },
    {
      "cell_type": "code",
      "metadata": {
        "id": "uSgoLRyS-B8Z",
        "colab_type": "code",
        "colab": {}
      },
      "source": [
        ""
      ],
      "execution_count": 0,
      "outputs": []
    }
  ]
}