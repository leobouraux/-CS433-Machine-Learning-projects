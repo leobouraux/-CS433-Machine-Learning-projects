{
 "cells": [
  {
   "cell_type": "code",
   "execution_count": 7,
   "metadata": {
    "scrolled": true
   },
   "outputs": [
    {
     "ename": "IndentationError",
     "evalue": "unindent does not match any outer indentation level (image_preprocessing.py, line 74)",
     "output_type": "error",
     "traceback": [
      "Traceback \u001b[0;36m(most recent call last)\u001b[0m:\n",
      "  File \u001b[1;32m\"//anaconda3/lib/python3.7/site-packages/IPython/core/interactiveshell.py\"\u001b[0m, line \u001b[1;32m3325\u001b[0m, in \u001b[1;35mrun_code\u001b[0m\n    exec(code_obj, self.user_global_ns, self.user_ns)\n",
      "\u001b[0;36m  File \u001b[0;32m\"<ipython-input-7-2679ffe95e3e>\"\u001b[0;36m, line \u001b[0;32m14\u001b[0;36m, in \u001b[0;35m<module>\u001b[0;36m\u001b[0m\n\u001b[0;31m    from image_preprocessing import*\u001b[0m\n",
      "\u001b[0;36m  File \u001b[0;32m\"/Users/David/Desktop/EPFL_2019:2020/Machine_Learning/ML_projects/project2/image_preprocessing.py\"\u001b[0;36m, line \u001b[0;32m74\u001b[0m\n\u001b[0;31m    num_sample, num_feature = data.shape\u001b[0m\n\u001b[0m                                        ^\u001b[0m\n\u001b[0;31mIndentationError\u001b[0m\u001b[0;31m:\u001b[0m unindent does not match any outer indentation level\n"
     ]
    }
   ],
   "source": [
    "%matplotlib inline\n",
    "import matplotlib.image as mpimg\n",
    "import numpy as np\n",
    "import matplotlib.pyplot as plt\n",
    "import os,sys\n",
    "from PIL import Image\n",
    "import nose.tools\n",
    "import scipy.misc\n",
    "import scipy.ndimage\n",
    "import skimage.filters\n",
    "import sklearn.metrics\n",
    "import cv2\n",
    "\n",
    "from image_preprocessing import*"
   ]
  },
  {
   "cell_type": "markdown",
   "metadata": {},
   "source": [
    "# Images loading + shapes"
   ]
  },
  {
   "cell_type": "code",
   "execution_count": null,
   "metadata": {},
   "outputs": [],
   "source": [
    "imgs, gt_imgs = import_images(\"Datasets/training/\")\n",
    "\n",
    "print( imgs[0].shape, gt_imgs[0].shape, len(imgs))"
   ]
  },
  {
   "cell_type": "markdown",
   "metadata": {},
   "source": [
    "# Images Croping + shapes"
   ]
  },
  {
   "cell_type": "code",
   "execution_count": null,
   "metadata": {
    "scrolled": true
   },
   "outputs": [],
   "source": [
    "patch_size = 16 # each patch is 16*16 pixels\n",
    "n = 5 # number of images used for training\n",
    "\n",
    "\n",
    "img_patches = [img_crop(imgs[i], patch_size,patch_size) for i in range(n)]\n",
    "gt_patches = [img_crop(gt_imgs[i], patch_size,patch_size) for i in range(n)]\n",
    "\n",
    "print(img_patches[0][0].shape)\n",
    "\n",
    "# Linearize list of patches\n",
    "img_patches_array = np.asarray([img_patches[i][j] for i in range(len(img_patches)) for j in range(len(img_patches[i]))])\n",
    "gt_patches_array =  np.asarray([gt_patches[i][j] for i in range(len(gt_patches)) for j in range(len(gt_patches[i]))])\n",
    "\n",
    "print('img :',img_patches_array.shape,'gt :', gt_patches_array.shape)"
   ]
  },
  {
   "cell_type": "markdown",
   "metadata": {},
   "source": [
    "# Images Splitting + shapes"
   ]
  },
  {
   "cell_type": "code",
   "execution_count": null,
   "metadata": {
    "scrolled": true
   },
   "outputs": [],
   "source": [
    "images_train, images_test = batch_image(img_patches_array,0.5)\n",
    "gt_train, gt_test = batch_image(gt_patches_array,0.5)\n",
    "\n",
    "print('images :',images_train.shape, images_test.shape,'gt :',gt_train.shape,gt_test.shape)"
   ]
  },
  {
   "cell_type": "markdown",
   "metadata": {},
   "source": [
    "  # Clustering"
   ]
  },
  {
   "cell_type": "markdown",
   "metadata": {},
   "source": [
    "## Preprocessing for clustering :"
   ]
  },
  {
   "cell_type": "code",
   "execution_count": null,
   "metadata": {},
   "outputs": [],
   "source": [
    "img_pre = np.array([preprocess_image_rgb(imgs[i]) for i in range(n)])\n",
    "\n",
    "# We only cluster images not ground thruth images."
   ]
  },
  {
   "cell_type": "markdown",
   "metadata": {},
   "source": [
    "## Clustering"
   ]
  },
  {
   "cell_type": "code",
   "execution_count": 1,
   "metadata": {},
   "outputs": [],
   "source": [
    "# define parameters\n",
    "k = 2\n",
    "max_iter = 100\n",
    "threshold = 1e-4\n",
    "\n",
    "\n",
    "img_cluster = [kmean_compression(imgs[i], img_pre[i], k, max_iter, threshold) for i in range(n)]\n",
    "\n",
    "print( img_cluster[0].shape)\n",
    "\n",
    "#Here we have a list of clustered images but can make an array of it.\n"
   ]
  }
 ],
 "metadata": {
  "kernelspec": {
   "display_name": "Python 3",
   "language": "python",
   "name": "python3"
  },
  "language_info": {
   "codemirror_mode": {
    "name": "ipython",
    "version": 3
   },
   "file_extension": ".py",
   "mimetype": "text/x-python",
   "name": "python",
   "nbconvert_exporter": "python",
   "pygments_lexer": "ipython3",
   "version": "3.7.4"
  }
 },
 "nbformat": 4,
 "nbformat_minor": 4
}
