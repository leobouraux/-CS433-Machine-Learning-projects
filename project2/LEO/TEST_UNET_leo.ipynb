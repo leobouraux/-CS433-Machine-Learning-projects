{
 "cells": [
  {
   "cell_type": "code",
   "execution_count": 1,
   "metadata": {},
   "outputs": [
    {
     "name": "stderr",
     "output_type": "stream",
     "text": [
      "Using TensorFlow backend.\n"
     ]
    },
    {
     "name": "stdout",
     "output_type": "stream",
     "text": [
      "WARNING:tensorflow:From /Users/leobouraux/anaconda3/lib/python3.7/site-packages/tensorflow_core/python/compat/v2_compat.py:68: disable_resource_variables (from tensorflow.python.ops.variable_scope) is deprecated and will be removed in a future version.\n",
      "Instructions for updating:\n",
      "non-resource variables are not supported in the long term\n"
     ]
    }
   ],
   "source": [
    "import os\n",
    "import math\n",
    "import matplotlib.image as mpimg\n",
    "import matplotlib.pyplot as plt\n",
    "import matplotlib.image as mpimg\n",
    "import numpy as np\n",
    "\n",
    "from sklearn.model_selection import train_test_split\n",
    "from keras.models import Sequential, model_from_json\n",
    "from keras.layers import Dense, Conv2D, Flatten, MaxPooling2D, ZeroPadding2D, Convolution2D, Dropout\n",
    "from keras.preprocessing.image import ImageDataGenerator, img_to_array\n",
    "from keras.callbacks import EarlyStopping, ReduceLROnPlateau, ModelCheckpoint, TensorBoard\n",
    "from sklearn.metrics import f1_score\n",
    "from PIL import Image\n",
    "\n",
    "from constant_values import *\n",
    "from img_preprocessing import *\n",
    "from predictions import *\n",
    "from Model_LIDAR import *\n",
    "from Model_VGG import *\n",
    "from Model_FCN import *\n",
    "from Model_UNET import *\n",
    "\n",
    "%load_ext autoreload\n",
    "%autoreload 2"
   ]
  },
  {
   "cell_type": "markdown",
   "metadata": {},
   "source": [
    "### Load full image dataset and augmentation done"
   ]
  },
  {
   "cell_type": "code",
   "execution_count": 2,
   "metadata": {},
   "outputs": [],
   "source": [
    "TRAINING_SIZE = 1000\n",
    "seed = np.random.randint(0, 10000)"
   ]
  },
  {
   "cell_type": "code",
   "execution_count": null,
   "metadata": {},
   "outputs": [],
   "source": [
    "tr_imgs = data_augmentation(\"../Data/training/images/\", seed)      #100 images --> 2400 images\n",
    "gt_imgs = data_augmentation(\"../Data/training/groundtruth/\", seed) #100 images --> 2400 images"
   ]
  },
  {
   "cell_type": "code",
   "execution_count": null,
   "metadata": {},
   "outputs": [],
   "source": [
    "tr_imgs2 = tr_imgs[:TRAINING_SIZE, :, :, :]\n",
    "gt_imgs2 = gt_imgs[:TRAINING_SIZE, :, :, :]"
   ]
  },
  {
   "cell_type": "code",
   "execution_count": null,
   "metadata": {},
   "outputs": [],
   "source": [
    "# Extract each images into patches (numpy arrays).\n",
    "img = extract_data(tr_imgs2)  #shape: ((400/16)^2 * TRAINING_SIZE, 16, 16, 3)\n",
    "gt = extract_labels(gt_imgs2) #shape: ((400/16)^2 * TRAINING_SIZE, 2)"
   ]
  },
  {
   "cell_type": "code",
   "execution_count": null,
   "metadata": {},
   "outputs": [],
   "source": [
    "TRAINING_SIZE"
   ]
  },
  {
   "cell_type": "code",
   "execution_count": null,
   "metadata": {},
   "outputs": [],
   "source": [
    "#model = model_LIDAR((16, 16, 3))\n",
    "#prediction_training_dir = \"MODEL_LIDAR_predictions_training/\"\n",
    "#OUTPUT_FILENAME = \"Model_LIDAR\"\n",
    "\n",
    "#model = model_VGG((16, 16, 3))\n",
    "#prediction_training_dir = \"MODEL_VGG_predictions_training/\"\n",
    "#OUTPUT_FILENAME = \"Model_VGG\"\n",
    "\n",
    "#model = model_FCN((16, 16, 3))\n",
    "#prediction_training_dir = \"MODEL_FCN_predictions_training/\"\n",
    "#OUTPUT_FILENAME = \"Model_FCN\"\n",
    "\n",
    "model = model_UNET((400, 400, 3))\n",
    "prediction_training_dir = \"MODEL_UNET_predictions_training/\"\n",
    "OUTPUT_FILENAME = \"Model_UNET\"\n",
    "\n",
    "\n",
    "model.compile(optimizer='adam',loss='sparse_categorical_crossentropy', metrics=['accuracy'])"
   ]
  },
  {
   "cell_type": "code",
   "execution_count": null,
   "metadata": {},
   "outputs": [],
   "source": [
    "# Step 1: Split into validation and training set     \n",
    "TEST_SIZE = 0.2 # To be studied\n",
    "Xtrain, Xtest, gt_train, gt_test = train_test_split(tr_imgs, gt_imgs, test_size=TEST_SIZE, random_state=1)"
   ]
  },
  {
   "cell_type": "code",
   "execution_count": null,
   "metadata": {},
   "outputs": [],
   "source": [
    "Xtrain.shape"
   ]
  },
  {
   "cell_type": "code",
   "execution_count": null,
   "metadata": {},
   "outputs": [],
   "source": [
    "# Step 2: Give weights to classes ?\n",
    "c_weight = {1: 2., 0: 1.}"
   ]
  },
  {
   "cell_type": "code",
   "execution_count": null,
   "metadata": {},
   "outputs": [],
   "source": [
    "# Step 3: Generate Generators\n",
    "train_datagenerator = ImageDataGenerator(horizontal_flip=True, vertical_flip=True)\n",
    "test_datagenerator  = ImageDataGenerator()\n",
    "\n",
    "train_generator = train_datagenerator.flow(Xtrain, gt_train, batch_size=BATCH_SIZE)\n",
    "test_generator  = test_datagenerator.flow(Xtest, gt_test, batch_size=BATCH_SIZE)\n"
   ]
  },
  {
   "cell_type": "code",
   "execution_count": null,
   "metadata": {},
   "outputs": [],
   "source": [
    "# Step 4: Early stop\n",
    "early_stop_callback = EarlyStopping(monitor='val_acc', min_delta=0, patience=50, verbose=0, mode='max', restore_best_weights=True)"
   ]
  },
  {
   "cell_type": "code",
   "execution_count": null,
   "metadata": {},
   "outputs": [],
   "source": [
    "# Step 5: Training\n",
    "model.fit_generator(train_generator,\n",
    "            validation_data=test_generator,\n",
    "            steps_per_epoch=1000,#math.ceil(TRAINING_SIZE / BATCH_SIZE), #len(train_generator)/16,\n",
    "            epochs=5,\n",
    "            callbacks = [early_stop_callback],\n",
    "            #class_weight=c_weight,\n",
    "            validation_steps=math.ceil(len(test_generator)/BATCH_SIZE))"
   ]
  },
  {
   "cell_type": "markdown",
   "metadata": {},
   "source": [
    "### Load model from Json "
   ]
  },
  {
   "cell_type": "code",
   "execution_count": null,
   "metadata": {},
   "outputs": [],
   "source": [
    "from keras.models import model_from_json\n",
    "json_file = open('simple_model.json', 'r')\n",
    "loaded_model_json = json_file.read()\n",
    "json_file.close()\n",
    "model = model_from_json(loaded_model_json)"
   ]
  },
  {
   "cell_type": "code",
   "execution_count": null,
   "metadata": {},
   "outputs": [],
   "source": [
    "train_data_filename = \"../Data/training/images/\"\n",
    "\n",
    "if not os.path.isdir(prediction_training_dir):\n",
    "    os.mkdir(prediction_training_dir)\n",
    "\n",
    "for i in range(1, TRAINING_SIZE+1):\n",
    "    #pimg = get_prediction_with_groundtruth(tr_imgs2[i], model)\n",
    "    #Image.fromarray(pimg).save(prediction_training_dir + \"prediction_\" + str(i) + \".png\")\n",
    "    oimg = get_prediction_with_overlay(tr_imgs2[i], model)\n",
    "    oimg.save(prediction_training_dir + \"overlay_\" + str(i) + \".png\")\n",
    "    sys.stdout.write(\"\\rImage {}/{} is being processed\".format(i,TRAINING_SIZE+1))\n",
    "    sys.stdout.flush()"
   ]
  },
  {
   "cell_type": "markdown",
   "metadata": {},
   "source": [
    "### Save model to json"
   ]
  },
  {
   "cell_type": "code",
   "execution_count": null,
   "metadata": {},
   "outputs": [],
   "source": [
    "# serialize model to JSON\n",
    "model_json = model.to_json()\n",
    "print(\"1\")\n",
    "with open(OUTPUT_FILENAME + \".json\", \"w\") as json_file:\n",
    "    json_file.write(model_json)\n",
    "    \n",
    "print(\"2\")\n",
    "# serialize weights to HDF5\n",
    "model.save_weights(OUTPUT_FILENAME + \".h5\")\n",
    "print(\"Saved model to disk\")"
   ]
  },
  {
   "cell_type": "code",
   "execution_count": null,
   "metadata": {},
   "outputs": [],
   "source": [
    "validation_data_prediction = model.predict_classes(Xtest, verbose = 1)\n",
    "print(\"3\")\n",
    "validation_label = []\n",
    "for e in gt_test:\n",
    "    print(\"4\")\n",
    "    if (e[0] == 0):\n",
    "        validation_label.append(1)\n",
    "    else:\n",
    "        validation_label.append(0)\n",
    "        \n",
    "validation_label = np.array(validation_label)     \n",
    "print(\"F1 score = \"+str(f1_score(validation_data_prediction, validation_label, labels=['1'])))"
   ]
  },
  {
   "cell_type": "code",
   "execution_count": null,
   "metadata": {},
   "outputs": [],
   "source": []
  },
  {
   "cell_type": "code",
   "execution_count": null,
   "metadata": {},
   "outputs": [],
   "source": []
  },
  {
   "cell_type": "code",
   "execution_count": null,
   "metadata": {},
   "outputs": [],
   "source": []
  }
 ],
 "metadata": {
  "kernelspec": {
   "display_name": "Python 3",
   "language": "python",
   "name": "python3"
  },
  "language_info": {
   "codemirror_mode": {
    "name": "ipython",
    "version": 3
   },
   "file_extension": ".py",
   "mimetype": "text/x-python",
   "name": "python",
   "nbconvert_exporter": "python",
   "pygments_lexer": "ipython3",
   "version": "3.7.4"
  }
 },
 "nbformat": 4,
 "nbformat_minor": 2
}
